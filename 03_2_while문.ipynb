{
  "nbformat": 4,
  "nbformat_minor": 0,
  "metadata": {
    "colab": {
      "provenance": [],
      "authorship_tag": "ABX9TyN7qF3xnTBE7Vv47R4bZU0j",
      "include_colab_link": true
    },
    "kernelspec": {
      "name": "python3",
      "display_name": "Python 3"
    },
    "language_info": {
      "name": "python"
    }
  },
  "cells": [
    {
      "cell_type": "markdown",
      "metadata": {
        "id": "view-in-github",
        "colab_type": "text"
      },
      "source": [
        "<a href=\"https://colab.research.google.com/github/HuBiZuk/Python25Study/blob/main/03_2_while%EB%AC%B8.ipynb\" target=\"_parent\"><img src=\"https://colab.research.google.com/assets/colab-badge.svg\" alt=\"Open In Colab\"/></a>"
      ]
    },
    {
      "cell_type": "code",
      "execution_count": null,
      "metadata": {
        "id": "r9CQNczGJowq"
      },
      "outputs": [],
      "source": [
        "# while 문의 기본 구조\n",
        "while 조건문:\n",
        "  수행할 문장1\n",
        "  수행할 문장2\n",
        "  수행할 문장3"
      ]
    },
    {
      "cell_type": "code",
      "source": [
        "# while 문은 조건문이 참인 동안 while 문에 속한 문장들이 반복해서 수행 된다.\n",
        "# 열번 찍어 안넘어가는 나무 없다 프로그램\n",
        "treeHit = 0\n",
        "while treeHit < 10:\n",
        "  treeHit = treeHit + 1\n",
        "  print(\"나무를 %d 번 찍었습니다.\" % treeHit)\n",
        "  if treeHit == 10:\n",
        "    print(\"나무가 넘어간다!\")"
      ],
      "metadata": {
        "id": "A-s-1EkwKCo6"
      },
      "execution_count": null,
      "outputs": []
    },
    {
      "cell_type": "code",
      "source": [
        "# while문 만들기\n",
        "number = 0\n",
        "\n",
        "prompt = \"\"\"\n",
        "1. Add\n",
        "2. Del\n",
        "3. List\n",
        "4. Quit\n",
        "Enter number: \"\"\"\n",
        "\n",
        "while number != 4:\n",
        "  print(prompt)\n",
        "  number = int(input())"
      ],
      "metadata": {
        "collapsed": true,
        "id": "tqGlAp7HKzlC"
      },
      "execution_count": null,
      "outputs": []
    },
    {
      "cell_type": "code",
      "source": [
        "# while 문 강제로 빠져 나가기\n",
        "# 커피 자판기\n",
        "coffee = 10\n",
        "money = 300\n",
        "while money:\n",
        "  print(\"돈을 받았으니 커피를 줍니다.\")\n",
        "  coffee = coffee -1\n",
        "  print(\"남은 커피의 양은 %d 개 입니다.\" % coffee)\n",
        "  if coffee == 0:\n",
        "    print(\"커피가 다 떨어졌습니다. 판매를 중지합니다.\")\n",
        "    break"
      ],
      "metadata": {
        "id": "NM-JXOFeL6rb"
      },
      "execution_count": null,
      "outputs": []
    },
    {
      "cell_type": "code",
      "source": [
        "# 더 사실적인 커피 자판기\n",
        "coffee = 10\n",
        "while True:\n",
        "  money = int(input(\"돈을 넣어 주세요\"))\n",
        "  if money == 300:\n",
        "    print(\"커피를 줍니다\")\n",
        "    coffee = coffee -1\n",
        "  elif money > 300:\n",
        "    print(\"거스름돈 %d 를 주고 커피를 줍니다\" % (money - 300))\n",
        "    coffee = coffee -1\n",
        "  else:\n",
        "    print(\"돈을 다시 돌려주고 커피를 주지 않습니다.\")\n",
        "    print(\"남은 커피의 양은 %d 개 입니다\" % coffee)\n",
        "  if coffee == 0:\n",
        "    print(\"커피가 다 떨어졌습니다. 판매를 중지 합니다.\")\n",
        "    break"
      ],
      "metadata": {
        "id": "yq1nkV1oMxer"
      },
      "execution_count": null,
      "outputs": []
    },
    {
      "cell_type": "code",
      "source": [
        "# while 문의 맨 처음으로 돌아가기\n",
        "a= 0\n",
        "while a < 10:\n",
        "  a = a + 1\n",
        "  if a % 2 == 0: continue\n",
        "  print(a)"
      ],
      "metadata": {
        "id": "kYG-HA4tN2KR"
      },
      "execution_count": null,
      "outputs": []
    },
    {
      "cell_type": "code",
      "source": [
        "# 무한 루프 !!!이거 실행시키지마!!!\n",
        "# while True:\n",
        "  print(\"Ctrol+C를 눌러야 while문을 빠져나갈 수 있습니다.\")"
      ],
      "metadata": {
        "id": "6nPVBc4-OXnb"
      },
      "execution_count": null,
      "outputs": []
    },
    {
      "cell_type": "code",
      "source": [
        "# while - else 문\n",
        "count = 0\n",
        "while count < 3:\n",
        "  print(f\"카운트: {count}\")\n",
        "  count += 1\n",
        "else:\n",
        "  print(\"while 문이 정상 종료 되었습니다.\")"
      ],
      "metadata": {
        "colab": {
          "base_uri": "https://localhost:8080/"
        },
        "id": "UGvKuxxTN13a",
        "outputId": "47a54f2e-5a41-4f5f-9366-b94168319882"
      },
      "execution_count": 1,
      "outputs": [
        {
          "output_type": "stream",
          "name": "stdout",
          "text": [
            "카운트: 0\n",
            "카운트: 1\n",
            "카운트: 2\n",
            "while 문이 정상 종료 되었습니다.\n"
          ]
        }
      ]
    },
    {
      "cell_type": "code",
      "source": [
        "# break 문으로 while 문을 빠져나가면 else 절은 실행되지 않는다.\n",
        "count = 0\n",
        "while count < 5:\n",
        "  if count == 2:\n",
        "    break\n",
        "  print(f\"카운트: {count}\")\n",
        "  count += 1\n",
        "else:\n",
        "  print(\"while 문이 정상 종료 되었습니다.\")"
      ],
      "metadata": {
        "colab": {
          "base_uri": "https://localhost:8080/"
        },
        "id": "Ns4EcPMwXK7z",
        "outputId": "4d4996b6-7907-4106-b35c-0b678491f0d2"
      },
      "execution_count": 2,
      "outputs": [
        {
          "output_type": "stream",
          "name": "stdout",
          "text": [
            "카운트: 0\n",
            "카운트: 1\n"
          ]
        }
      ]
    },
    {
      "cell_type": "code",
      "source": [
        "# 중첩된 while문\n",
        "i = 1\n",
        "while i <= 3:\n",
        "  j = 1\n",
        "  while j <= 3:\n",
        "    print(f\"i={i}, j={j}\")\n",
        "    j += 1\n",
        "  i += 1\n"
      ],
      "metadata": {
        "colab": {
          "base_uri": "https://localhost:8080/"
        },
        "id": "Ew8FJLn5Xwts",
        "outputId": "1c84ed67-0089-4cdc-aa10-d5d4ce274614"
      },
      "execution_count": 3,
      "outputs": [
        {
          "output_type": "stream",
          "name": "stdout",
          "text": [
            "i=1, j=1\n",
            "i=1, j=2\n",
            "i=1, j=3\n",
            "i=2, j=1\n",
            "i=2, j=2\n",
            "i=2, j=3\n",
            "i=3, j=1\n",
            "i=3, j=2\n",
            "i=3, j=3\n"
          ]
        }
      ]
    },
    {
      "cell_type": "code",
      "source": [
        "# 중첩된 while 문에서 break나 continue를 사용할 때는 가장 가까운 while 문에만 영향을 준다"
      ],
      "metadata": {
        "id": "hOEjPm8xYIwL"
      },
      "execution_count": null,
      "outputs": []
    }
  ]
}