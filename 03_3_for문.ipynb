{
  "nbformat": 4,
  "nbformat_minor": 0,
  "metadata": {
    "colab": {
      "provenance": [],
      "authorship_tag": "ABX9TyOde9lh9d+M53hB9Hawp+1L",
      "include_colab_link": true
    },
    "kernelspec": {
      "name": "python3",
      "display_name": "Python 3"
    },
    "language_info": {
      "name": "python"
    }
  },
  "cells": [
    {
      "cell_type": "markdown",
      "metadata": {
        "id": "view-in-github",
        "colab_type": "text"
      },
      "source": [
        "<a href=\"https://colab.research.google.com/github/HuBiZuk/Python25Study/blob/main/03_3_for%EB%AC%B8.ipynb\" target=\"_parent\"><img src=\"https://colab.research.google.com/assets/colab-badge.svg\" alt=\"Open In Colab\"/></a>"
      ]
    },
    {
      "cell_type": "code",
      "execution_count": null,
      "metadata": {
        "colab": {
          "base_uri": "https://localhost:8080/"
        },
        "id": "T4pXnxZWYbbd",
        "outputId": "ed9435ea-289c-4437-dd97-2074771eb04e"
      },
      "outputs": [
        {
          "output_type": "stream",
          "name": "stdout",
          "text": [
            "one\n",
            "two\n",
            "three\n"
          ]
        }
      ],
      "source": [
        "# 전형적인 for문\n",
        "test_list = ['one', 'two', 'three']\n",
        "for i in test_list:\n",
        "             print(i)"
      ]
    },
    {
      "cell_type": "code",
      "source": [
        "# 다양한 for 문의 사용\n",
        "a = [(1,2), (3,4), (5,6)]\n",
        "for (first, last) in a:\n",
        "  print(first + last)\n",
        "  # a 리스트 요소값이 튜플이기 때문에 각각의 요소가 자동으로\n",
        "  # (first, last) 변수에 대입된다."
      ],
      "metadata": {
        "colab": {
          "base_uri": "https://localhost:8080/"
        },
        "id": "NMzEMvDIY7zL",
        "outputId": "69cb728e-e4f3-40da-a75e-0d7112d71150"
      },
      "execution_count": null,
      "outputs": [
        {
          "output_type": "stream",
          "name": "stdout",
          "text": [
            "3\n",
            "7\n",
            "11\n"
          ]
        }
      ]
    },
    {
      "cell_type": "code",
      "source": [
        "# for 문의 응용\n",
        "marks = [90,25,67,45,80]  # 학생들의 시험 점수 리스트\n",
        "\n",
        "number = 0  # 학생에게 붙여줄 번호\n",
        "for mark in marks:  # 90,25,67,45,80 을 순서대로 mark에 대입\n",
        "  number = number +1\n",
        "  if mark >= 60:\n",
        "    print(\"%d번 학생은 합격입니다.\" % number)\n",
        "  else:\n",
        "    print(\"%d번 학생은 불합격 입니다.\" % number)"
      ],
      "metadata": {
        "colab": {
          "base_uri": "https://localhost:8080/"
        },
        "id": "jGU3TBs_Zd9D",
        "outputId": "8a3a5ddb-8923-4972-d6f3-ddd33ad4fe6b"
      },
      "execution_count": null,
      "outputs": [
        {
          "output_type": "stream",
          "name": "stdout",
          "text": [
            "1번 학생은 합격입니다.\n",
            "2번 학생은 불합격 입니다.\n",
            "3번 학생은 합격입니다.\n",
            "4번 학생은 불합격 입니다.\n",
            "5번 학생은 합격입니다.\n"
          ]
        }
      ]
    },
    {
      "cell_type": "code",
      "source": [
        "# for 문과 continue 문\n",
        "marks = [90,25,67,45,80]\n",
        "\n",
        "number = 0\n",
        "for mark in marks:\n",
        "  number = number +1\n",
        "  if mark < 60:\n",
        "    continue\n",
        "  print(\"%d번 학생 축하 합니다. 합격입니다.\" % number)"
      ],
      "metadata": {
        "colab": {
          "base_uri": "https://localhost:8080/"
        },
        "id": "6yxQXqOXajCs",
        "outputId": "77124285-615b-4e20-a865-6f2c010044fc"
      },
      "execution_count": null,
      "outputs": [
        {
          "output_type": "stream",
          "name": "stdout",
          "text": [
            "1번 학생 축하 합니다. 합격입니다.\n",
            "3번 학생 축하 합니다. 합격입니다.\n",
            "5번 학생 축하 합니다. 합격입니다.\n"
          ]
        }
      ]
    },
    {
      "cell_type": "code",
      "source": [
        "# for 문과 함께 자주 사용하는 range 함수\n",
        "a = range(10)\n",
        "a"
      ],
      "metadata": {
        "colab": {
          "base_uri": "https://localhost:8080/"
        },
        "id": "7k-i_mmKbB4z",
        "outputId": "6d31222c-4bec-4596-a5a8-236562e17740"
      },
      "execution_count": null,
      "outputs": [
        {
          "output_type": "execute_result",
          "data": {
            "text/plain": [
              "range(0, 10)"
            ]
          },
          "metadata": {},
          "execution_count": 7
        }
      ]
    },
    {
      "cell_type": "code",
      "source": [
        "# 시작 숫자 끝 숫자 지정\n",
        "a = range(1, 11)\n",
        "a"
      ],
      "metadata": {
        "colab": {
          "base_uri": "https://localhost:8080/"
        },
        "id": "LVcL0MgRbOXa",
        "outputId": "6ad0e008-25d2-49ac-f6ff-6ec4e40483f0"
      },
      "execution_count": null,
      "outputs": [
        {
          "output_type": "execute_result",
          "data": {
            "text/plain": [
              "range(1, 11)"
            ]
          },
          "metadata": {},
          "execution_count": 8
        }
      ]
    },
    {
      "cell_type": "code",
      "source": [
        "# range 함수의 예시\n",
        "add = 0\n",
        "for i in range(1, 11):\n",
        "  add = add + i\n",
        "print (add)"
      ],
      "metadata": {
        "colab": {
          "base_uri": "https://localhost:8080/"
        },
        "id": "g8myQvVLbZhT",
        "outputId": "33ba37a3-3fa5-418d-8932-f01c8f913d41"
      },
      "execution_count": null,
      "outputs": [
        {
          "output_type": "stream",
          "name": "stdout",
          "text": [
            "55\n"
          ]
        }
      ]
    },
    {
      "cell_type": "code",
      "source": [
        "# 합격축하문을 range로\n",
        "mark = [90,25,67,45,80]\n",
        "for number in range(len(marks)):\n",
        "  if marks[number] < 60:\n",
        "    continue\n",
        "  print(\"%d번 학생 축하합니다. 합격입니다.\" % (number +1))\n"
      ],
      "metadata": {
        "colab": {
          "base_uri": "https://localhost:8080/"
        },
        "id": "dqOr_6DebrB8",
        "outputId": "aa424c51-7b8b-4dd7-d30c-058183589af3"
      },
      "execution_count": null,
      "outputs": [
        {
          "output_type": "stream",
          "name": "stdout",
          "text": [
            "1번 학생 축하합니다. 합격입니다.\n",
            "3번 학생 축하합니다. 합격입니다.\n",
            "5번 학생 축하합니다. 합격입니다.\n"
          ]
        }
      ]
    },
    {
      "cell_type": "code",
      "source": [
        "# for 와 range를 이용한 구구단\n",
        "for i in range(2,10):  # 1번 for문\n",
        "  for j in range(1,10):  # 2번 for문\n",
        "    print(i*j, end=\" \")\n",
        "  print('')"
      ],
      "metadata": {
        "colab": {
          "base_uri": "https://localhost:8080/"
        },
        "id": "fPzFyup1cTzr",
        "outputId": "92b557f1-62b1-44d2-a622-450b334d693c"
      },
      "execution_count": null,
      "outputs": [
        {
          "output_type": "stream",
          "name": "stdout",
          "text": [
            "2 4 6 8 10 12 14 16 18 \n",
            "3 6 9 12 15 18 21 24 27 \n",
            "4 8 12 16 20 24 28 32 36 \n",
            "5 10 15 20 25 30 35 40 45 \n",
            "6 12 18 24 30 36 42 48 54 \n",
            "7 14 21 28 35 42 49 56 63 \n",
            "8 16 24 32 40 48 56 64 72 \n",
            "9 18 27 36 45 54 63 72 81 \n"
          ]
        }
      ]
    },
    {
      "cell_type": "code",
      "source": [
        "# 리스트 컴프리헨션 사용하기\n",
        "a = [1,2,3,4]\n",
        "result = []\n",
        "for num in a:\n",
        "  result.append(num*3)\n",
        "print(result)"
      ],
      "metadata": {
        "colab": {
          "base_uri": "https://localhost:8080/"
        },
        "id": "UzEB08Bncqyc",
        "outputId": "b4a7ee1a-4c97-464e-b756-1657048587b2"
      },
      "execution_count": null,
      "outputs": [
        {
          "output_type": "stream",
          "name": "stdout",
          "text": [
            "[3, 6, 9, 12]\n"
          ]
        }
      ]
    },
    {
      "cell_type": "code",
      "source": [
        "# 조금더 간단하게\n",
        "a = [1,2,3,4]\n",
        "result = [num * 3 for num in a]\n",
        "print(result)"
      ],
      "metadata": {
        "colab": {
          "base_uri": "https://localhost:8080/"
        },
        "id": "bm81A5jqc9Hs",
        "outputId": "6e9cedeb-6a11-4f6e-a0cf-da2269f1c139"
      },
      "execution_count": null,
      "outputs": [
        {
          "output_type": "stream",
          "name": "stdout",
          "text": [
            "[3, 6, 9, 12]\n"
          ]
        }
      ]
    },
    {
      "cell_type": "code",
      "source": [
        "# 1,2,3,4 중에 짝수만 3을 곱함\n",
        "a = [1,2,3,4]\n",
        "result = [num*3 for num in a if num % 2 == 0]\n",
        "print(result)"
      ],
      "metadata": {
        "colab": {
          "base_uri": "https://localhost:8080/"
        },
        "id": "f2c3b7M_dO8E",
        "outputId": "51909557-b0a8-469e-fcff-4fc154981769"
      },
      "execution_count": null,
      "outputs": [
        {
          "output_type": "stream",
          "name": "stdout",
          "text": [
            "[6, 12]\n"
          ]
        }
      ]
    },
    {
      "cell_type": "code",
      "source": [
        "# 리스트 컴프리헨션의 문법\n",
        "# [표현식 for 항목 in 반복_가능_객체 if 조건문]"
      ],
      "metadata": {
        "id": "P4w74yDYdhmM"
      },
      "execution_count": null,
      "outputs": []
    },
    {
      "cell_type": "code",
      "source": [
        "# for문을 2개 이상 사용\n",
        "# [표현식 for 항목1 in 반복가능객체1 if 조건문1\n",
        "#   for 항목2 in 반복가능객체2 if 조건문2\n",
        "#   ...\n",
        "#   for 항목n 반복가능객체n if 조건문n]"
      ],
      "metadata": {
        "id": "VnqIDwLYdw2K"
      },
      "execution_count": null,
      "outputs": []
    },
    {
      "cell_type": "code",
      "source": [
        "# 리스트 컴프리핸션을 사용한 구구단\n",
        "result = [x*y for x in range(2,10)\n",
        "          for y in range(1,10)]\n",
        "print(result)"
      ],
      "metadata": {
        "colab": {
          "base_uri": "https://localhost:8080/"
        },
        "id": "Sum5pVhCeLsT",
        "outputId": "0e4cf236-64ed-4683-b8d4-acf0e5da9b1f"
      },
      "execution_count": null,
      "outputs": [
        {
          "output_type": "stream",
          "name": "stdout",
          "text": [
            "[2, 4, 6, 8, 10, 12, 14, 16, 18, 3, 6, 9, 12, 15, 18, 21, 24, 27, 4, 8, 12, 16, 20, 24, 28, 32, 36, 5, 10, 15, 20, 25, 30, 35, 40, 45, 6, 12, 18, 24, 30, 36, 42, 48, 54, 7, 14, 21, 28, 35, 42, 49, 56, 63, 8, 16, 24, 32, 40, 48, 56, 64, 72, 9, 18, 27, 36, 45, 54, 63, 72, 81]\n"
          ]
        }
      ]
    },
    {
      "cell_type": "code",
      "source": [
        "# for 문과 break 문\n",
        "for i in range(10):\n",
        "  if i == 5:\n",
        "    break\n",
        "  print(i)"
      ],
      "metadata": {
        "colab": {
          "base_uri": "https://localhost:8080/"
        },
        "id": "LT6lo37MeuUU",
        "outputId": "912d5ee4-fcc7-4408-e444-ee90729ff453"
      },
      "execution_count": null,
      "outputs": [
        {
          "output_type": "stream",
          "name": "stdout",
          "text": [
            "0\n",
            "1\n",
            "2\n",
            "3\n",
            "4\n"
          ]
        }
      ]
    },
    {
      "cell_type": "code",
      "source": [
        "# for-else 문\n",
        "for i in range(5):\n",
        "  print(i)\n",
        "else:\n",
        "  print(\"for 문이 정상 종료되었습니다.\")"
      ],
      "metadata": {
        "colab": {
          "base_uri": "https://localhost:8080/"
        },
        "id": "hq0PVQDLvdbq",
        "outputId": "c1e89afb-3e9a-42d6-c826-2655e1406593"
      },
      "execution_count": 23,
      "outputs": [
        {
          "output_type": "stream",
          "name": "stdout",
          "text": [
            "0\n",
            "1\n",
            "2\n",
            "3\n",
            "4\n",
            "for 문이 정상 종료되었습니다.\n"
          ]
        }
      ]
    },
    {
      "cell_type": "code",
      "source": [
        "# break문으로 for 빠져나가기\n",
        "for i in range(5):\n",
        "  if i == 3:\n",
        "    break\n",
        "  print(i)\n",
        "else:\n",
        "  print(\"for 문이 정상종료 되었습니다\")\n"
      ],
      "metadata": {
        "colab": {
          "base_uri": "https://localhost:8080/"
        },
        "id": "hpQ7-tz9xPjb",
        "outputId": "de4be426-ae10-47fe-8183-7779e3753364"
      },
      "execution_count": 24,
      "outputs": [
        {
          "output_type": "stream",
          "name": "stdout",
          "text": [
            "0\n",
            "1\n",
            "2\n"
          ]
        }
      ]
    },
    {
      "cell_type": "code",
      "source": [
        "# enumerate 함수 활용핟기\n",
        "fruits = ['apple', 'banana', 'orange']\n",
        "for i, fruits in enumerate(fruits):\n",
        "  print(f\"{i}: {fruits}\")"
      ],
      "metadata": {
        "colab": {
          "base_uri": "https://localhost:8080/"
        },
        "id": "4IAHAxYrxjWy",
        "outputId": "9825004f-41d6-433a-a575-1e0ab6724a90"
      },
      "execution_count": 25,
      "outputs": [
        {
          "output_type": "stream",
          "name": "stdout",
          "text": [
            "0: a[[;e\n",
            "1: banana\n",
            "2: orange\n"
          ]
        }
      ]
    },
    {
      "cell_type": "code",
      "source": [
        "# 시작 번호를 변경하고 싶다면\n",
        "fruits = ['apple', 'banana', 'orange']\n",
        "for i, fruits in enumerate(fruits,1): # 1부터 시작\n",
        "  print(f\"{i}: {fruits}\")"
      ],
      "metadata": {
        "colab": {
          "base_uri": "https://localhost:8080/"
        },
        "id": "NPfSmVEMx7_6",
        "outputId": "edda7447-f7d8-4d5c-fc21-75d881222dab"
      },
      "execution_count": 27,
      "outputs": [
        {
          "output_type": "stream",
          "name": "stdout",
          "text": [
            "1: apple\n",
            "2: banana\n",
            "3: orange\n"
          ]
        }
      ]
    },
    {
      "cell_type": "code",
      "source": [
        "# zip 함수로 여러 리스트 함께 순회하기\n",
        "names = ['홍길동', '김철수', '이영희']\n",
        "scores = [85, 92, 78]\n",
        "for name, score in zip(names, scores):\n",
        "  print(f\"{name}: {score}점\")"
      ],
      "metadata": {
        "colab": {
          "base_uri": "https://localhost:8080/"
        },
        "id": "8bEP3oiayXg7",
        "outputId": "48a51b93-fe46-48de-eac2-9a1fe70eb423"
      },
      "execution_count": 28,
      "outputs": [
        {
          "output_type": "stream",
          "name": "stdout",
          "text": [
            "홍길동: 85점\n",
            "김철수: 92점\n",
            "이영희: 78점\n"
          ]
        }
      ]
    },
    {
      "cell_type": "code",
      "source": [
        "# 세개 이상의 리스트도 함께 순회\n",
        "names = ['홍길동', '김철수', '이영희']\n",
        "korean = [85, 92, 78]\n",
        "english = [90, 88, 95]\n",
        "for name, kor, eng in zip(names, korean, english):\n",
        "  print(f\"{name}: 국어 {kor}점, 영어 {eng}점\")"
      ],
      "metadata": {
        "colab": {
          "base_uri": "https://localhost:8080/"
        },
        "id": "XZqQYvP8y_Mb",
        "outputId": "a98f22c2-5c5d-45c8-9b9f-27c8d39f90c3"
      },
      "execution_count": 29,
      "outputs": [
        {
          "output_type": "stream",
          "name": "stdout",
          "text": [
            "홍길동: 국어 85점, 영어 90점\n",
            "김철수: 국어 92점, 영어 88점\n",
            "이영희: 국어 78점, 영어 95점\n"
          ]
        }
      ]
    },
    {
      "cell_type": "code",
      "source": [],
      "metadata": {
        "id": "xXSUWVFqymHx"
      },
      "execution_count": null,
      "outputs": []
    }
  ]
}