{
  "nbformat": 4,
  "nbformat_minor": 0,
  "metadata": {
    "colab": {
      "provenance": [],
      "authorship_tag": "ABX9TyPqXuVXauWBXCYJY+pKn61f",
      "include_colab_link": true
    },
    "kernelspec": {
      "name": "python3",
      "display_name": "Python 3"
    },
    "language_info": {
      "name": "python"
    }
  },
  "cells": [
    {
      "cell_type": "markdown",
      "metadata": {
        "id": "view-in-github",
        "colab_type": "text"
      },
      "source": [
        "<a href=\"https://colab.research.google.com/github/HuBiZuk/Python25Study/blob/main/04_1_%ED%95%A8%EC%88%98.ipynb\" target=\"_parent\"><img src=\"https://colab.research.google.com/assets/colab-badge.svg\" alt=\"Open In Colab\"/></a>"
      ]
    },
    {
      "cell_type": "code",
      "execution_count": null,
      "metadata": {
        "id": "39OvP5Przfo7",
        "colab": {
          "base_uri": "https://localhost:8080/"
        },
        "outputId": "02b73d02-ed5b-4cc2-f555-06fd60fb750f"
      },
      "outputs": [
        {
          "output_type": "stream",
          "name": "stdout",
          "text": [
            "7\n"
          ]
        }
      ],
      "source": [
        "# 파이썬 함수의 구조\n",
        "# def 함수이름(매개변수)\n",
        "#  수행할 문장1\n",
        "#  수행할 문장2\n",
        "\n",
        "def add(a,b):\n",
        "  return a+b\n",
        "a = 3\n",
        "b = 4\n",
        "c = add(a, b)   # add(3, 4)의 반환값을 c에 대입\n",
        "print(c)"
      ]
    },
    {
      "cell_type": "code",
      "source": [
        "# 매개변수(parameter)와 인수(arguments)\n",
        "# 매개변수 = 함수에 입력으로 전달된 값을 받는 변수\n",
        "# 인수 = 함수를 호출할때 전달하는 입력값\n",
        "\n",
        "def add(a, b) # a,b는 매개변수\n",
        "  return a+b\n",
        "print(add(3, 4))  # 3, 4는 인수\n",
        "\n"
      ],
      "metadata": {
        "id": "aF0BIOUjzuRZ"
      },
      "execution_count": null,
      "outputs": []
    },
    {
      "cell_type": "code",
      "source": [
        "# 일반적인 함수\n",
        "# def 함수이름(매개변수):\n",
        "# 수행할 문장\n",
        "# ...\n",
        "# return 반환값\n",
        "\n",
        "def add(a, b):\n",
        "  result = a + b\n",
        "  return result"
      ],
      "metadata": {
        "id": "ExSIYmxK0ao5"
      },
      "execution_count": null,
      "outputs": []
    },
    {
      "cell_type": "code",
      "source": [
        "a = add(3, 4)\n",
        "print(a)"
      ],
      "metadata": {
        "colab": {
          "base_uri": "https://localhost:8080/"
        },
        "id": "KmvuyC2m1Vlz",
        "outputId": "fcef6f91-4454-43fe-f967-a53cef03867c"
      },
      "execution_count": null,
      "outputs": [
        {
          "output_type": "stream",
          "name": "stdout",
          "text": [
            "7\n"
          ]
        }
      ]
    },
    {
      "cell_type": "code",
      "source": [
        "# 입력값이 없는 함수\n",
        "def say():\n",
        "  return 'Hi'\n",
        "\n",
        "a = say()\n",
        "print(a)\n"
      ],
      "metadata": {
        "colab": {
          "base_uri": "https://localhost:8080/"
        },
        "id": "PMuCpf7z0aZS",
        "outputId": "4ef95cbb-977f-4e88-e499-5ad4ef5b5fca"
      },
      "execution_count": null,
      "outputs": [
        {
          "output_type": "stream",
          "name": "stdout",
          "text": [
            "Hi\n"
          ]
        }
      ]
    },
    {
      "cell_type": "code",
      "source": [
        "# 반환값이 없는 함수\n",
        "def add(a, b):\n",
        "  print(\"%d, %d의 합은 %d 입니다.\" % (a, b, a+b))\n",
        "\n",
        "add(3, 4)\n"
      ],
      "metadata": {
        "colab": {
          "base_uri": "https://localhost:8080/"
        },
        "id": "hn0uYnJK1pZJ",
        "outputId": "175b4542-d3a5-47ba-9611-41429fd08aad"
      },
      "execution_count": null,
      "outputs": [
        {
          "output_type": "stream",
          "name": "stdout",
          "text": [
            "3, 4의 합은 7 입니다.\n"
          ]
        }
      ]
    },
    {
      "cell_type": "code",
      "source": [
        "# 반환값이 없는 함수\n",
        "def add(a, b):\n",
        "  print(\"%d, %d의 합은 %d 입니다.\" % (a, b, a+b))\n",
        "\n",
        "a = add(3, 4)\n",
        "print(a)"
      ],
      "metadata": {
        "colab": {
          "base_uri": "https://localhost:8080/"
        },
        "id": "yO2h0AA-2R1q",
        "outputId": "67e2395d-abe6-4c1a-fda7-83eb500197a7"
      },
      "execution_count": null,
      "outputs": [
        {
          "output_type": "stream",
          "name": "stdout",
          "text": [
            "3, 4의 합은 7 입니다.\n",
            "None\n"
          ]
        }
      ]
    },
    {
      "cell_type": "code",
      "source": [
        "# 입력값과, 반환값도 없는 함수\n",
        "def say():\n",
        "  print('hi')\n",
        "\n",
        "# 사용법\n",
        "say()   # 함수이름()"
      ],
      "metadata": {
        "colab": {
          "base_uri": "https://localhost:8080/"
        },
        "id": "iL5CnoN92dwi",
        "outputId": "8276b4f1-dccf-42ab-e72f-2cff60a2f2d2"
      },
      "execution_count": null,
      "outputs": [
        {
          "output_type": "stream",
          "name": "stdout",
          "text": [
            "hi\n"
          ]
        }
      ]
    },
    {
      "cell_type": "code",
      "source": [
        "# 매개변수를 지정하여 호출하기\n",
        "def sub(a, b):\n",
        "  return a - b\n",
        "\n",
        "result = sub(a=7, b=3)  # a에 7, b에 3을 전달\n",
        "print(result)"
      ],
      "metadata": {
        "colab": {
          "base_uri": "https://localhost:8080/"
        },
        "id": "oQG0FC4F20yi",
        "outputId": "02a67a8c-a81b-4ba7-baeb-07e39f8a6590"
      },
      "execution_count": null,
      "outputs": [
        {
          "output_type": "stream",
          "name": "stdout",
          "text": [
            "4\n"
          ]
        }
      ]
    },
    {
      "cell_type": "code",
      "source": [
        "# 매개변수를 지정하면 순서에 상관없이 사용\n",
        "def sub(a, b):\n",
        "  return a - b\n",
        "\n",
        "result = sub(b=5, a=3)  # b에 5, a에 3을 전달\n",
        "print(result)"
      ],
      "metadata": {
        "colab": {
          "base_uri": "https://localhost:8080/"
        },
        "id": "gcPhWUDX3NtD",
        "outputId": "34340cec-2442-4698-c7ef-3428d0f96608"
      },
      "execution_count": null,
      "outputs": [
        {
          "output_type": "stream",
          "name": "stdout",
          "text": [
            "-2\n"
          ]
        }
      ]
    },
    {
      "cell_type": "code",
      "source": [
        "# 여러개의 입력값을 받는 함수 만들기\n",
        "# *args 처럼 매개변수 이름 앞에 *을 붙이면 입력값을 전부 모아 튜플로 만들어줌\n",
        "def add_many(*args):\n",
        "  result = 0\n",
        "  for i in args:\n",
        "    result = result + i   # *args에 입력받는 모든값을 더한다.\n",
        "  return result\n",
        "\n",
        "# 사용하기\n",
        "result = add_many(1,2,3)\n",
        "print(result)\n",
        "\n",
        "result = add_many(1,2,3,4,5,6,7,8,9,10)\n",
        "print(result)"
      ],
      "metadata": {
        "colab": {
          "base_uri": "https://localhost:8080/"
        },
        "id": "UllzPvQg3hsb",
        "outputId": "73da298e-c645-40dc-ea3d-605fc95ec80f"
      },
      "execution_count": null,
      "outputs": [
        {
          "output_type": "stream",
          "name": "stdout",
          "text": [
            "6\n",
            "55\n"
          ]
        }
      ]
    },
    {
      "cell_type": "code",
      "source": [
        "# 여러입력 처리할때\n",
        "def add_mul(choice, *args):\n",
        "  if choice == \"add\": # 매개변수 choice에 add를 입력 받았을때\n",
        "    result = 0\n",
        "    for i in args:\n",
        "      result = result + i\n",
        "\n",
        "  elif choice == \"mul\":   # 매개변수 choice에 \"mul\" 을 입력 받았을때\n",
        "\n",
        "    result = 1\n",
        "    for i in args:\n",
        "      result = result * i\n",
        "  return result\n",
        "\n",
        "result = add_mul('add', 1,2,3,4,5)\n",
        "print(result)\n",
        "\n",
        "result = add_mul(\"mul\", 1,2,3,4,5)\n",
        "print(result)"
      ],
      "metadata": {
        "colab": {
          "base_uri": "https://localhost:8080/"
        },
        "id": "oaVb72yZ4HTT",
        "outputId": "ba63bc57-948a-4370-843c-33afe546fa8d"
      },
      "execution_count": 9,
      "outputs": [
        {
          "output_type": "stream",
          "name": "stdout",
          "text": [
            "15\n",
            "120\n"
          ]
        }
      ]
    },
    {
      "cell_type": "code",
      "source": [
        "# 키워드 매개변수, kwargs\n",
        "def print_kwargs(**kwargs):\n",
        "  print(kwargs)\n",
        "\n",
        "\n",
        "# print_kwargs = 입력받은 키워드 매개변수들을 딕셔너리 형태로\n",
        "# 출력하는 함수\n",
        "print_kwargs(a=1)\n",
        "print_kwargs(name='foo', age=3)\n",
        "print_kwargs(name='홍길동', age=25, city='서울', jop='개발자')\n",
        "\n"
      ],
      "metadata": {
        "colab": {
          "base_uri": "https://localhost:8080/"
        },
        "id": "cFNj3j4i5HQb",
        "outputId": "28344e4e-14bb-460b-9a31-a5d27ea80497"
      },
      "execution_count": null,
      "outputs": [
        {
          "output_type": "stream",
          "name": "stdout",
          "text": [
            "{'a': 1}\n",
            "{'name': 'foo', 'age': 3}\n",
            "{'name': '홍길동', 'age': 25, 'city': '서울', 'jop': '개발자'}\n"
          ]
        }
      ]
    },
    {
      "cell_type": "code",
      "source": [
        "# 키워드 배개변수의 실용적인 예\n",
        "def create_profile(**info):\n",
        "  print(\"=== 프로필 정보 ===\")\n",
        "  for key, value in info.items():\n",
        "    print(f\"{key}: {value}\")\n",
        "\n",
        "create_profile(이름='김철수', 나이=30, 직업='프로그래머', 취미='독서')"
      ],
      "metadata": {
        "colab": {
          "base_uri": "https://localhost:8080/"
        },
        "id": "3UcYLzQW30dT",
        "outputId": "b72f4743-8b47-43d4-93a6-272395f4d22d"
      },
      "execution_count": null,
      "outputs": [
        {
          "output_type": "stream",
          "name": "stdout",
          "text": [
            "=== 프로필 정보 ===\n",
            "이름: 김철수\n",
            "나이: 30\n",
            "직업: 프로그래머\n",
            "취미: 독서\n"
          ]
        }
      ]
    },
    {
      "cell_type": "code",
      "source": [
        "# 키워드 배개변수의 실용적인 예\n",
        "def mixed_function(name, *args, **kwargs):\n",
        "  print(f\"이름: {name}\")\n",
        "  print(f\"추가 인수들:{args}\")\n",
        "  print(f\"키워드 추가 인수들: {kwargs}\")\n",
        "\n",
        "mixed_function('홍길동', 1,2,3, age=25, city='서울')\n",
        "\n",
        "# kwargs 는 keyword arguments의 약자\n"
      ],
      "metadata": {
        "colab": {
          "base_uri": "https://localhost:8080/"
        },
        "id": "FXDAd2Bo3zOK",
        "outputId": "e7f240a2-92ab-4314-997c-04b9c446b515"
      },
      "execution_count": null,
      "outputs": [
        {
          "output_type": "stream",
          "name": "stdout",
          "text": [
            "이름: 홍길동\n",
            "추가 인수들:(1, 2, 3)\n",
            "키워드 추가 인수들: {'age': 25, 'city': '서울'}\n"
          ]
        }
      ]
    },
    {
      "cell_type": "code",
      "source": [
        "# 함수의 반환값은 언제나 하나이다\n",
        "def add_and_mul(a,b):\n",
        "  return a+b, a*b\n",
        "result = add_and_mul(3,4)\n",
        "# result = (7, 12)\n",
        "\n"
      ],
      "metadata": {
        "id": "-jXxkQut81pz"
      },
      "execution_count": null,
      "outputs": []
    },
    {
      "cell_type": "code",
      "source": [
        "def add_and_mul(a,b):\n",
        "  return a+b\n",
        "  return a*b\n",
        "result = add_and_mul(2,3)\n",
        "print(result)"
      ],
      "metadata": {
        "colab": {
          "base_uri": "https://localhost:8080/"
        },
        "id": "9oTvyGbm9X1b",
        "outputId": "4ec026c4-b762-4941-f295-679e3bba3734"
      },
      "execution_count": null,
      "outputs": [
        {
          "output_type": "stream",
          "name": "stdout",
          "text": [
            "5\n"
          ]
        }
      ]
    },
    {
      "cell_type": "code",
      "source": [
        "# return의 또다른 쓰임새\n",
        "# 리턴으로 함수를 빠져 나가는 방법\n",
        "def say_nick(nick):\n",
        "  if nick == \"바보\":\n",
        "    return\n",
        "  print(\"나의 별명은 %s 입니다.\" % nick)\n",
        "\n",
        "say_nick('야호')\n",
        "say_nick('바보')"
      ],
      "metadata": {
        "colab": {
          "base_uri": "https://localhost:8080/"
        },
        "id": "GcPsMi9-9ouE",
        "outputId": "0915b046-f7bd-489b-d616-94218ef6d300"
      },
      "execution_count": null,
      "outputs": [
        {
          "output_type": "stream",
          "name": "stdout",
          "text": [
            "나의 별명은 야호 입니다.\n"
          ]
        }
      ]
    },
    {
      "cell_type": "code",
      "source": [
        "# 매개변수에 초깃값 미리 설정하기\n",
        "def say_myself(name, age, man=True):\n",
        "  print(\"나의 이름은 %s 입니다.\" % name)\n",
        "  print(\"나이는 %d살 입니다.\" % age)\n",
        "  if man:\n",
        "    print(\"남자입니다.\")\n",
        "  else:\n",
        "    print(\"여자입니다.\")\n",
        "\n",
        "say_myself(\"박응용\", 27)\n",
        "say_myself(\"박응용\", 27, True)\n",
        "say_myself(\"박응선\", 27, False)\n"
      ],
      "metadata": {
        "colab": {
          "base_uri": "https://localhost:8080/"
        },
        "id": "_cFGA0Yy-9_L",
        "outputId": "78391359-da9e-4474-8dff-1540a2340cbd"
      },
      "execution_count": null,
      "outputs": [
        {
          "output_type": "stream",
          "name": "stdout",
          "text": [
            "나의 이름은 박응용 입니다.\n",
            "나이는 27살 입니다.\n",
            "남자입니다.\n",
            "나의 이름은 박응용 입니다.\n",
            "나이는 27살 입니다.\n",
            "남자입니다.\n",
            "나의 이름은 박응선 입니다.\n",
            "나이는 27살 입니다.\n",
            "여자입니다.\n"
          ]
        }
      ]
    },
    {
      "cell_type": "code",
      "source": [
        "# 주의(오류)\n",
        "del say_myself(name, man=True, age):\n",
        "print(\"나의 이름은 %s 입니다.\" % name)\n",
        "print(\"나이는 %d살 입니다.\" % age)\n",
        "if man:\n",
        "  print(\"남자 입니다.\")\n",
        "else:\n",
        "  print(\"여자 입니다.\")\n",
        "\n",
        "say_myself(\"박응용\", 27)\n"
      ],
      "metadata": {
        "colab": {
          "base_uri": "https://localhost:8080/",
          "height": 110
        },
        "id": "6y_FbXcwABAS",
        "outputId": "0d92ec67-3750-449a-da89-2ad25cc23dfa"
      },
      "execution_count": null,
      "outputs": [
        {
          "output_type": "error",
          "ename": "SyntaxError",
          "evalue": "positional argument follows keyword argument (ipython-input-798842943.py, line 2)",
          "traceback": [
            "\u001b[0;36m  File \u001b[0;32m\"/tmp/ipython-input-798842943.py\"\u001b[0;36m, line \u001b[0;32m2\u001b[0m\n\u001b[0;31m    del say_myself(name, man=True, age):\u001b[0m\n\u001b[0m                                      ^\u001b[0m\n\u001b[0;31mSyntaxError\u001b[0m\u001b[0;31m:\u001b[0m positional argument follows keyword argument\n"
          ]
        }
      ]
    },
    {
      "cell_type": "code",
      "source": [
        "# 함수 안에서 선언한 변수의 효력 범위\n",
        "a = 1\n",
        "def vartest(a):\n",
        "  a = a + 1\n",
        "\n",
        "vartest(a)\n",
        "print(a)\n",
        "\n",
        "def vartest(hello):\n",
        "  hello = hello + 1"
      ],
      "metadata": {
        "colab": {
          "base_uri": "https://localhost:8080/"
        },
        "id": "N2YQoVhGAy9N",
        "outputId": "71a92bc2-e6d2-4411-ca4e-780e45495752"
      },
      "execution_count": null,
      "outputs": [
        {
          "output_type": "stream",
          "name": "stdout",
          "text": [
            "1\n"
          ]
        }
      ]
    },
    {
      "cell_type": "code",
      "source": [
        "# 함수 안에서 선언한 변수의 효력 범위\n",
        "a = 1\n",
        "def vartest(a):\n",
        "  a = a + 1\n",
        "\n",
        "vartest(3)\n",
        "print(a)"
      ],
      "metadata": {
        "colab": {
          "base_uri": "https://localhost:8080/"
        },
        "id": "NdBH2XooBFwi",
        "outputId": "d851e285-080b-4c6a-8c49-770ee1500fb8"
      },
      "execution_count": null,
      "outputs": [
        {
          "output_type": "stream",
          "name": "stdout",
          "text": [
            "1\n"
          ]
        }
      ]
    },
    {
      "cell_type": "code",
      "source": [
        "#[함수 안에서 함수 밖의 변수를 변경하는 방법]"
      ],
      "metadata": {
        "id": "JXqt1P3aBgBC"
      },
      "execution_count": null,
      "outputs": []
    },
    {
      "cell_type": "code",
      "source": [
        "# return 사용하기\n",
        "a = 1\n",
        "def vartest(a):\n",
        "  a = a + 1\n",
        "  return a\n",
        "\n",
        "a = vartest(a)\n",
        "print(a)"
      ],
      "metadata": {
        "colab": {
          "base_uri": "https://localhost:8080/"
        },
        "id": "b4ExU7veBPZ8",
        "outputId": "e84ac609-d271-4e45-b948-6adff0962510"
      },
      "execution_count": null,
      "outputs": [
        {
          "output_type": "stream",
          "name": "stdout",
          "text": [
            "2\n"
          ]
        }
      ]
    },
    {
      "cell_type": "code",
      "source": [
        "# global 명령어 사용하기\n",
        "a = 1\n",
        "def vartest():\n",
        "  global a\n",
        "  a = a+1\n",
        "\n",
        "vartest()\n",
        "print(a)"
      ],
      "metadata": {
        "colab": {
          "base_uri": "https://localhost:8080/"
        },
        "id": "gOJofQ8GB3X7",
        "outputId": "15025ea6-edb9-4994-cdfa-ae9ee4b7cb86"
      },
      "execution_count": null,
      "outputs": [
        {
          "output_type": "stream",
          "name": "stdout",
          "text": [
            "2\n"
          ]
        }
      ]
    },
    {
      "cell_type": "code",
      "source": [
        "# 리스트나 딕셔너리는 함수에서 변경 가능하다\n",
        "def change_list(my_list):\n",
        "  my_list.append(4) # 리스트에 값을 추가\n",
        "\n",
        "a = [1,2,3]\n",
        "change_list(a)\n",
        "print(a)"
      ],
      "metadata": {
        "colab": {
          "base_uri": "https://localhost:8080/"
        },
        "id": "oXHsuKAQCItq",
        "outputId": "42c98c9b-5400-460b-c598-0e05dd920422"
      },
      "execution_count": null,
      "outputs": [
        {
          "output_type": "stream",
          "name": "stdout",
          "text": [
            "[1, 2, 3, 4]\n"
          ]
        }
      ]
    },
    {
      "cell_type": "code",
      "source": [
        "# lambda 예약어\n",
        "add = lambda a, b: a+b\n",
        "result = add(3,4)\n",
        "print(result)"
      ],
      "metadata": {
        "colab": {
          "base_uri": "https://localhost:8080/"
        },
        "id": "W3cMOrxICjoi",
        "outputId": "c5a113b1-ca59-4cfc-cda6-03bdbffcee12"
      },
      "execution_count": null,
      "outputs": [
        {
          "output_type": "stream",
          "name": "stdout",
          "text": [
            "7\n"
          ]
        }
      ]
    },
    {
      "cell_type": "code",
      "source": [
        "def add(a,b):\n",
        "  return a+b\n",
        "\n",
        "result = add(3, 4)\n",
        "print(result)"
      ],
      "metadata": {
        "colab": {
          "base_uri": "https://localhost:8080/"
        },
        "id": "EYg3wHMPC3kN",
        "outputId": "e27fa537-954e-41da-a376-a683d22b227e"
      },
      "execution_count": null,
      "outputs": [
        {
          "output_type": "stream",
          "name": "stdout",
          "text": [
            "7\n"
          ]
        }
      ]
    },
    {
      "cell_type": "code",
      "source": [
        "# 함수의 독스트링(Docstring)\n",
        "# 함수의 대한 설명을 문서화 하는 방법\n",
        "def add(a,b):\n",
        "  \"\"\"\n",
        "  두 숫자를 더하는 함수\n",
        "\n",
        "  Prameters:\n",
        "  a (int, float): 첫 번째 숫자\n",
        "  b (int, float): 두 번째 숫자\n",
        "\n",
        "  Returns:\n",
        "  int, float: 두 숫자의 합\n",
        "  \"\"\"\n",
        "\n",
        "  return a + b\n",
        "\n",
        "# 독 스트링 확인하기\n",
        "print(add.__doc__)"
      ],
      "metadata": {
        "colab": {
          "base_uri": "https://localhost:8080/"
        },
        "id": "gJiMBOaiDHVb",
        "outputId": "3893702b-79e0-4188-ed0b-1d98b240d6ee"
      },
      "execution_count": null,
      "outputs": [
        {
          "output_type": "stream",
          "name": "stdout",
          "text": [
            "\n",
            "  두 숫자를 더하는 함수\n",
            "\n",
            "  Prameters:\n",
            "  a (int, float): 첫 번째 숫자\n",
            "  b (int, float): 두 번째 숫자\n",
            "\n",
            "  Returns:\n",
            "  int, float: 두 숫자의 합\n",
            "  \n"
          ]
        }
      ]
    }
  ]
}