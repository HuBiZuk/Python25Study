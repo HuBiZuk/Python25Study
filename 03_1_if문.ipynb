{
  "nbformat": 4,
  "nbformat_minor": 0,
  "metadata": {
    "colab": {
      "provenance": [],
      "authorship_tag": "ABX9TyMq1T7a74ktGV/hcr9TYzSC",
      "include_colab_link": true
    },
    "kernelspec": {
      "name": "python3",
      "display_name": "Python 3"
    },
    "language_info": {
      "name": "python"
    }
  },
  "cells": [
    {
      "cell_type": "markdown",
      "metadata": {
        "id": "view-in-github",
        "colab_type": "text"
      },
      "source": [
        "<a href=\"https://colab.research.google.com/github/HuBiZuk/Python25Study/blob/main/03_1_if%EB%AC%B8.ipynb\" target=\"_parent\"><img src=\"https://colab.research.google.com/assets/colab-badge.svg\" alt=\"Open In Colab\"/></a>"
      ]
    },
    {
      "cell_type": "code",
      "execution_count": 2,
      "metadata": {
        "colab": {
          "base_uri": "https://localhost:8080/"
        },
        "id": "6IljrjlJ7i1b",
        "outputId": "00309e93-135a-4758-dd82-7c0e8ebba236"
      },
      "outputs": [
        {
          "output_type": "stream",
          "name": "stdout",
          "text": [
            "택시를 타고 가라\n"
          ]
        }
      ],
      "source": [
        ">>> money = True\n",
        ">>> if money:\n",
        "...     print(\"택시를 타고 가라\")\n",
        "... else:\n",
        "...     print(\"걸어 가라\")\n"
      ]
    },
    {
      "cell_type": "code",
      "source": [
        "# if 문의 기본 구조\n",
        "if 조건문:\n",
        "  수행할 문장 1\n",
        "  수행할 문장 2\n",
        "else:\n",
        "  수행할 문장 A\n",
        "  수행할 문장 B"
      ],
      "metadata": {
        "id": "HVsy-jAO7sWr"
      },
      "execution_count": null,
      "outputs": []
    },
    {
      "cell_type": "code",
      "source": [
        "# 들여쓰기 방법 알아보기\n",
        "if 조건문:\n",
        "  수행할 문장1\n",
        "  수행할 문장2\n",
        "  수행할 문장3"
      ],
      "metadata": {
        "id": "Y88Niwb68Zjy"
      },
      "execution_count": null,
      "outputs": []
    },
    {
      "cell_type": "code",
      "source": [
        "# 들여쓰기 방법 알아보기 - 오류\n",
        "if 조건문:\n",
        "  수행할 문장 1\n",
        "수행할 문장 2     # X 오류\n",
        "  수행할 문장 3"
      ],
      "metadata": {
        "id": "F4AC9ZLM8jUR"
      },
      "execution_count": null,
      "outputs": []
    },
    {
      "cell_type": "code",
      "source": [
        "# 들여쓰기 방법 알아보기 - 오류\n",
        "money = True\n",
        "if money:\n",
        "  print(\"택시를\")\n",
        "  print(\"타고\")\n",
        "    print(\"가라\")"
      ],
      "metadata": {
        "colab": {
          "base_uri": "https://localhost:8080/",
          "height": 110
        },
        "id": "P1FerCyI83ED",
        "outputId": "5f444e3d-7491-4e84-c99d-7f90ca1a5a7e"
      },
      "execution_count": 3,
      "outputs": [
        {
          "output_type": "error",
          "ename": "IndentationError",
          "evalue": "unexpected indent (ipython-input-1907542562.py, line 6)",
          "traceback": [
            "\u001b[0;36m  File \u001b[0;32m\"/tmp/ipython-input-1907542562.py\"\u001b[0;36m, line \u001b[0;32m6\u001b[0m\n\u001b[0;31m    print(\"가라\")\u001b[0m\n\u001b[0m    ^\u001b[0m\n\u001b[0;31mIndentationError\u001b[0m\u001b[0;31m:\u001b[0m unexpected indent\n"
          ]
        }
      ]
    },
    {
      "cell_type": "code",
      "source": [
        "# 비교 연산자\n",
        "# x < y  x가 y보다 작다\n",
        "# x > y   x가 y보다 크다\n",
        "# x == y  x와 y가 같다\n",
        "# x != y  x와 y가 같지않다\n",
        "# x >= y  x가 y보다 크거나 같다\n",
        "# x <= y  x가 y보다 작거나 같다"
      ],
      "metadata": {
        "id": "3PmKSXmR9IuK"
      },
      "execution_count": null,
      "outputs": []
    },
    {
      "cell_type": "code",
      "source": [
        "x = 3\n",
        "y = 2\n",
        "x > y"
      ],
      "metadata": {
        "colab": {
          "base_uri": "https://localhost:8080/"
        },
        "id": "r82vVJuh9mqy",
        "outputId": "cc07cb75-1e67-452a-fcdf-c763f68f0ec1"
      },
      "execution_count": 4,
      "outputs": [
        {
          "output_type": "execute_result",
          "data": {
            "text/plain": [
              "True"
            ]
          },
          "metadata": {},
          "execution_count": 4
        }
      ]
    },
    {
      "cell_type": "code",
      "source": [
        "x = 3\n",
        "y = 2\n",
        "x < y"
      ],
      "metadata": {
        "colab": {
          "base_uri": "https://localhost:8080/"
        },
        "id": "YXW6MaYA-DYZ",
        "outputId": "c9038d54-455c-4090-9d01-3b1dff955588"
      },
      "execution_count": 11,
      "outputs": [
        {
          "output_type": "execute_result",
          "data": {
            "text/plain": [
              "False"
            ]
          },
          "metadata": {},
          "execution_count": 11
        }
      ]
    },
    {
      "cell_type": "code",
      "source": [
        "x = 3\n",
        "y = 2\n",
        "x == y"
      ],
      "metadata": {
        "colab": {
          "base_uri": "https://localhost:8080/"
        },
        "id": "plnStAEr9wKp",
        "outputId": "7aad8f56-1685-4895-db2f-5cf387faff9c"
      },
      "execution_count": 13,
      "outputs": [
        {
          "output_type": "execute_result",
          "data": {
            "text/plain": [
              "False"
            ]
          },
          "metadata": {},
          "execution_count": 13
        }
      ]
    },
    {
      "cell_type": "code",
      "source": [
        "x = 3\n",
        "y = 2\n",
        "x != y"
      ],
      "metadata": {
        "colab": {
          "base_uri": "https://localhost:8080/"
        },
        "id": "ighfXv1W939p",
        "outputId": "c71170ed-daf6-44ba-d31e-542c9ddee3dc"
      },
      "execution_count": 14,
      "outputs": [
        {
          "output_type": "execute_result",
          "data": {
            "text/plain": [
              "True"
            ]
          },
          "metadata": {},
          "execution_count": 14
        }
      ]
    },
    {
      "cell_type": "code",
      "source": [
        "# 만약 3000원 이상의 돈을 가지고 있으면 택시를 타고 가고, 그렇지 않으면 걸어가라\n",
        "money = 2000\n",
        "if money >= 3000:\n",
        "   print(\"택시를 타고가라\")\n",
        "else:\n",
        "  print(\"걸어가라\")"
      ],
      "metadata": {
        "colab": {
          "base_uri": "https://localhost:8080/"
        },
        "id": "U13yqiWq-SCK",
        "outputId": "23515e4a-44a8-4236-804f-70f54edaacd6"
      },
      "execution_count": 15,
      "outputs": [
        {
          "output_type": "stream",
          "name": "stdout",
          "text": [
            "걸어가라\n"
          ]
        }
      ]
    },
    {
      "cell_type": "code",
      "source": [
        "# and, or, not\n",
        "x or y # x와 y둘중 하나만 참이어도 참이다.\n",
        "x and y # x와 y 모두 참이어야 참이다.\n",
        "not x # x가 거짓이면 참이다."
      ],
      "metadata": {
        "id": "Dz411Tcr-pOq"
      },
      "execution_count": null,
      "outputs": []
    },
    {
      "cell_type": "code",
      "source": [
        "# 돈이 3000원 이상 있거나 카드가 있다면 택시를 타고가고, 그렇지 않으면 걸어가라.\n",
        "money = 2000\n",
        "card = True\n",
        "if money >= 3000 or card:\n",
        "  print(\"택시를 타고가라\")\n",
        "else:\n",
        "  print(\"걸어가라\")"
      ],
      "metadata": {
        "colab": {
          "base_uri": "https://localhost:8080/"
        },
        "id": "frdnimgE_Aii",
        "outputId": "c4b63789-a25d-4917-9a7b-dd5692623d13"
      },
      "execution_count": 16,
      "outputs": [
        {
          "output_type": "stream",
          "name": "stdout",
          "text": [
            "택시를 타고가라\n"
          ]
        }
      ]
    },
    {
      "cell_type": "code",
      "source": [
        "# in, not in\n",
        "# x in 리스트 # x not in 리스트\n",
        "# x in 튜플   # x not in 튜플\n",
        "# x in 문자열 # x not in 문자열"
      ],
      "metadata": {
        "id": "iZTi8lXZ_dtL"
      },
      "execution_count": null,
      "outputs": []
    },
    {
      "cell_type": "code",
      "source": [
        "# in = ~ 안에\n",
        "1in [1,2,3]\n"
      ],
      "metadata": {
        "colab": {
          "base_uri": "https://localhost:8080/"
        },
        "id": "1jIELQKv_47y",
        "outputId": "887b8790-682b-44de-baa8-1014cfd4170f"
      },
      "execution_count": 17,
      "outputs": [
        {
          "output_type": "stream",
          "name": "stderr",
          "text": [
            "<>:2: SyntaxWarning: invalid decimal literal\n",
            "<>:2: SyntaxWarning: invalid decimal literal\n",
            "/tmp/ipython-input-3983761389.py:2: SyntaxWarning: invalid decimal literal\n",
            "  1in [1,2,3]\n"
          ]
        },
        {
          "output_type": "execute_result",
          "data": {
            "text/plain": [
              "True"
            ]
          },
          "metadata": {},
          "execution_count": 17
        }
      ]
    },
    {
      "cell_type": "code",
      "source": [
        "1 not in [1,2,3]"
      ],
      "metadata": {
        "colab": {
          "base_uri": "https://localhost:8080/"
        },
        "id": "LpdbhdecACah",
        "outputId": "80f04d82-c56c-4333-d58f-72a3b3848cf0"
      },
      "execution_count": 18,
      "outputs": [
        {
          "output_type": "execute_result",
          "data": {
            "text/plain": [
              "False"
            ]
          },
          "metadata": {},
          "execution_count": 18
        }
      ]
    },
    {
      "cell_type": "code",
      "source": [
        "'a' in ['a','b','c']"
      ],
      "metadata": {
        "colab": {
          "base_uri": "https://localhost:8080/"
        },
        "id": "4bmjaevOAIT5",
        "outputId": "a749b900-cc1a-4076-d28a-1729281f2637"
      },
      "execution_count": 19,
      "outputs": [
        {
          "output_type": "execute_result",
          "data": {
            "text/plain": [
              "True"
            ]
          },
          "metadata": {},
          "execution_count": 19
        }
      ]
    },
    {
      "cell_type": "code",
      "source": [
        "'j' not in 'python'"
      ],
      "metadata": {
        "colab": {
          "base_uri": "https://localhost:8080/"
        },
        "id": "VQg658NbAOQx",
        "outputId": "80492451-3f73-4912-d0eb-e8dec3480dbc"
      },
      "execution_count": 20,
      "outputs": [
        {
          "output_type": "execute_result",
          "data": {
            "text/plain": [
              "True"
            ]
          },
          "metadata": {},
          "execution_count": 20
        }
      ]
    },
    {
      "cell_type": "code",
      "source": [
        "# 만약 주머니에 돈이 있으면 택시를 타고 가고, 없으면 걸어가라\n",
        "pocket = ['paper', 'cellphone', 'money']\n",
        "if 'money' in pocket:\n",
        "  print(\"택시를 타고 가라\")\n",
        "else:\n",
        "  print(\"걸어가라\")\n",
        ""
      ],
      "metadata": {
        "colab": {
          "base_uri": "https://localhost:8080/"
        },
        "id": "47V_f7-2AVAh",
        "outputId": "889235d1-9993-4b50-b9f5-55f710c018ed"
      },
      "execution_count": 21,
      "outputs": [
        {
          "output_type": "stream",
          "name": "stdout",
          "text": [
            "택시를 타고 가라\n"
          ]
        }
      ]
    },
    {
      "cell_type": "code",
      "source": [
        "# 조건문에서 아무일도 일어나지 않게 설정하고 싶다면 - pass\n",
        "pocket = ['paper', 'money', 'cellphone']\n",
        "if 'money' in pocket:\n",
        "  pass      # 아무일도 하지 않음\n",
        "else:\n",
        "  print(\"카드를 꺼내라\")\n"
      ],
      "metadata": {
        "id": "e61Rs5RTA6RT"
      },
      "execution_count": 22,
      "outputs": []
    },
    {
      "cell_type": "code",
      "source": [
        "# 다양한 조건을 판단하는 elif\n",
        "# 주머니에 돈이 있으면 택시를 타고 가고, 주머니에 돈은 없지만 카드가 있으면 택시를 타고 가고, 돈도 없고 카드도 없으면 걸어가라.\n",
        "pocket = ['paper', 'cellphone']\n",
        "card = True\n",
        "if 'money' in pocket:\n",
        "  print(\"택시를 타고가라\")\n",
        "else:\n",
        "  if card:\n",
        "    print(\"택시를 타고가라\")\n",
        "  else:\n",
        "    print(\"걸어가라\")"
      ],
      "metadata": {
        "colab": {
          "base_uri": "https://localhost:8080/"
        },
        "id": "kx-9web1BYJq",
        "outputId": "2d162d3f-7d1b-4351-8a8d-62fb16300e87"
      },
      "execution_count": 23,
      "outputs": [
        {
          "output_type": "stream",
          "name": "stdout",
          "text": [
            "택시를 타고가라\n"
          ]
        }
      ]
    },
    {
      "cell_type": "code",
      "source": [
        "# 다중판단을 가능하게하는 elif\n",
        "pocket = ['paper', 'cellphone']\n",
        "card = True\n",
        "if 'money' in pocket:\n",
        "  print(\"택시를 타고 가라\")\n",
        "elif card:\n",
        "  print(\"택시를 타고 가라\")\n",
        "else:\n",
        "  print(\"걸어가라\")\n"
      ],
      "metadata": {
        "colab": {
          "base_uri": "https://localhost:8080/"
        },
        "id": "kMdyLOZOB9OS",
        "outputId": "a8444cc2-f55c-417d-f7ab-adbdbe547618"
      },
      "execution_count": 24,
      "outputs": [
        {
          "output_type": "stream",
          "name": "stdout",
          "text": [
            "택시를 타고 가라\n"
          ]
        }
      ]
    },
    {
      "cell_type": "code",
      "source": [
        "# if 문을 한줄로 작성하기\n",
        "pocket = ['paper', 'cellphone']\n",
        "card = True\n",
        "if 'money' in pocket:\n",
        "  pass\n",
        "else:\n",
        "  print(\"카드를 꺼내라\")"
      ],
      "metadata": {
        "colab": {
          "base_uri": "https://localhost:8080/"
        },
        "id": "o0SVt2-HCcSD",
        "outputId": "4f382898-430d-47b5-c5cb-e39b9739ef2d"
      },
      "execution_count": 25,
      "outputs": [
        {
          "output_type": "stream",
          "name": "stdout",
          "text": [
            "카드를 꺼내라\n"
          ]
        }
      ]
    },
    {
      "cell_type": "code",
      "source": [
        "# 더 간략하게\n",
        "pocket = ['paper', 'money', 'cellphone']\n",
        "if 'money' in pocket: pass\n",
        "else: print(\"카드를 꺼내라\")"
      ],
      "metadata": {
        "id": "ryj3vyucCrhb"
      },
      "execution_count": 28,
      "outputs": []
    },
    {
      "cell_type": "code",
      "source": [
        "# 비교 연산자의 연쇄 사용\n",
        "x =5\n",
        "1 < x < 10   # x가 1보다 크고 10보다 작은가?"
      ],
      "metadata": {
        "colab": {
          "base_uri": "https://localhost:8080/"
        },
        "id": "t2WjF2LUDMaL",
        "outputId": "8aa71a4d-c0df-4c5c-b22e-9a3d13307bf2"
      },
      "execution_count": 29,
      "outputs": [
        {
          "output_type": "execute_result",
          "data": {
            "text/plain": [
              "True"
            ]
          },
          "metadata": {},
          "execution_count": 29
        }
      ]
    },
    {
      "cell_type": "code",
      "source": [
        "10 <= x <= 20  # x가 10 이상 20 이하인가?"
      ],
      "metadata": {
        "colab": {
          "base_uri": "https://localhost:8080/"
        },
        "id": "_X4jYZ14DXg6",
        "outputId": "549ae5ad-d542-4d6b-95bb-4e8a5695a3c9"
      },
      "execution_count": 30,
      "outputs": [
        {
          "output_type": "execute_result",
          "data": {
            "text/plain": [
              "False"
            ]
          },
          "metadata": {},
          "execution_count": 30
        }
      ]
    },
    {
      "cell_type": "code",
      "source": [
        "# 이렇게 써도 같음\n",
        "x = 5\n",
        "(1 < x) and (x < 10)"
      ],
      "metadata": {
        "colab": {
          "base_uri": "https://localhost:8080/"
        },
        "id": "3WCNmrLdDo1b",
        "outputId": "8b50a33a-3ecd-458d-fc2a-3e0719d5754d"
      },
      "execution_count": 31,
      "outputs": [
        {
          "output_type": "execute_result",
          "data": {
            "text/plain": [
              "True"
            ]
          },
          "metadata": {},
          "execution_count": 31
        }
      ]
    },
    {
      "cell_type": "code",
      "source": [
        "x = 5\n",
        "(10 <= x) and (x <= 20)"
      ],
      "metadata": {
        "colab": {
          "base_uri": "https://localhost:8080/"
        },
        "id": "5O1H2GLCD9oz",
        "outputId": "77ec6040-ccb0-45e7-c746-6ea4fe7e9f1c"
      },
      "execution_count": 32,
      "outputs": [
        {
          "output_type": "execute_result",
          "data": {
            "text/plain": [
              "False"
            ]
          },
          "metadata": {},
          "execution_count": 32
        }
      ]
    },
    {
      "cell_type": "code",
      "source": [
        "# 조건부 표현식\n",
        "score = 85\n",
        "if score >= 60:\n",
        "  result = \"합격\"\n",
        "else:\n",
        "  result = \"불합격\"\n",
        "print(result)\n"
      ],
      "metadata": {
        "colab": {
          "base_uri": "https://localhost:8080/"
        },
        "id": "ICxAb3yVEFQ6",
        "outputId": "c387699b-a022-4647-9c37-1bd8f287d4eb"
      },
      "execution_count": 33,
      "outputs": [
        {
          "output_type": "stream",
          "name": "stdout",
          "text": [
            "합격\n"
          ]
        }
      ]
    },
    {
      "cell_type": "code",
      "source": [
        "# 간단한 조건 분기는 파이썬의 조건부 표현식을 사용하면 한줄로 가능\n",
        "score = 85\n",
        "result = \"합격\" if score >= 60 else \"불합격\"\n",
        "print(result)\n",
        "# 변수 = 참_일때 값 if 조건 else 거짓일때 값\n"
      ],
      "metadata": {
        "colab": {
          "base_uri": "https://localhost:8080/"
        },
        "id": "bpY4G1-qHzSL",
        "outputId": "188eed04-affe-49f8-c4bc-a6691efc43fa"
      },
      "execution_count": 34,
      "outputs": [
        {
          "output_type": "stream",
          "name": "stdout",
          "text": [
            "합격\n"
          ]
        }
      ]
    },
    {
      "cell_type": "code",
      "source": [
        "# 조건이 참이면 참일때 값, 거짓이면 거짓일때 값을 변수에 대입한다\n",
        "age = 19\n",
        "status = \"성인\" if age >= 18 else \"미성년\"\n",
        "print(status)"
      ],
      "metadata": {
        "colab": {
          "base_uri": "https://localhost:8080/"
        },
        "id": "_FcqT7ypIV3j",
        "outputId": "fccfc5a4-1822-4819-ff6a-48938c93c635"
      },
      "execution_count": 35,
      "outputs": [
        {
          "output_type": "stream",
          "name": "stdout",
          "text": [
            "성인\n"
          ]
        }
      ]
    },
    {
      "cell_type": "code",
      "source": [
        "temperature = 25\n",
        "weather = \"따뜻함\" if temperature > 20 else \" 추움\"\n",
        "print(weather)"
      ],
      "metadata": {
        "colab": {
          "base_uri": "https://localhost:8080/"
        },
        "id": "a5IX9hvaIpiD",
        "outputId": "700fa4ad-7d12-489e-8ead-d95be5020375"
      },
      "execution_count": 37,
      "outputs": [
        {
          "output_type": "stream",
          "name": "stdout",
          "text": [
            "따뜻함\n"
          ]
        }
      ]
    },
    {
      "cell_type": "code",
      "source": [
        "money = 1500\n",
        "transportation = \"버스\" if money >= 1000 else \"도보\"\n",
        "print(transportation)"
      ],
      "metadata": {
        "colab": {
          "base_uri": "https://localhost:8080/"
        },
        "id": "7V2s-_F8JICK",
        "outputId": "bfecd221-0f8d-49d7-ca4d-545037c17f5d"
      },
      "execution_count": 38,
      "outputs": [
        {
          "output_type": "stream",
          "name": "stdout",
          "text": [
            "버스\n"
          ]
        }
      ]
    }
  ]
}