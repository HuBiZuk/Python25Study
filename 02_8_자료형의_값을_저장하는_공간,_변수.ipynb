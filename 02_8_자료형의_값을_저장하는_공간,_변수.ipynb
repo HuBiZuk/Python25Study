{
  "nbformat": 4,
  "nbformat_minor": 0,
  "metadata": {
    "colab": {
      "provenance": [],
      "authorship_tag": "ABX9TyPU5jwMZCwrDDIESSgJA3Ed",
      "include_colab_link": true
    },
    "kernelspec": {
      "name": "python3",
      "display_name": "Python 3"
    },
    "language_info": {
      "name": "python"
    }
  },
  "cells": [
    {
      "cell_type": "markdown",
      "metadata": {
        "id": "view-in-github",
        "colab_type": "text"
      },
      "source": [
        "<a href=\"https://colab.research.google.com/github/HuBiZuk/Python25Study/blob/main/02_8_%EC%9E%90%EB%A3%8C%ED%98%95%EC%9D%98_%EA%B0%92%EC%9D%84_%EC%A0%80%EC%9E%A5%ED%95%98%EB%8A%94_%EA%B3%B5%EA%B0%84%2C_%EB%B3%80%EC%88%98.ipynb\" target=\"_parent\"><img src=\"https://colab.research.google.com/assets/colab-badge.svg\" alt=\"Open In Colab\"/></a>"
      ]
    },
    {
      "cell_type": "code",
      "execution_count": null,
      "metadata": {
        "id": "7pNX6SuXRW5w"
      },
      "outputs": [],
      "source": [
        "# [변수]\n",
        "a = 1\n",
        "b = \"python\"\n",
        "c = [1,2,3]\n",
        "# 변수 이름 = 변수에 저장할 값"
      ]
    },
    {
      "cell_type": "code",
      "source": [
        "# 변수의 명명규칙\n",
        "# 1. 영문자, 숫자, 언더스코어만 사용할수 있다.\n",
        "# 2. 숫자로 시작할 수 없다.\n",
        "# 3. 예약어는 사용할 수 없다.\n",
        "# 4. 대소문자를 구분한다."
      ],
      "metadata": {
        "id": "fwhv7-gnR6F1"
      },
      "execution_count": null,
      "outputs": []
    },
    {
      "cell_type": "code",
      "source": [
        "# 올바른 변수명 예시\n",
        "name = \"홍길동\"\n",
        "age = 25\n",
        "user_name = \"gildong\"\n",
        "usernName = \"gildong\" #  카멜 케이스\n",
        "_private = \"비공개\"\n",
        "count1 = 10\n",
        "\n",
        "# 잘못된 변수명 예시\n",
        "# 1name = \"홍길동\"  # 숫자로 시작 (오류)\n",
        "# user-name = \"홍길동\" # 하이픈 사용 (오류)\n",
        "# if = 10           # 예약어 사용 (오류)"
      ],
      "metadata": {
        "id": "eD_ZoQj0SNnt"
      },
      "execution_count": null,
      "outputs": []
    },
    {
      "cell_type": "code",
      "source": [
        "# 파이썬 예약어 - 특별한 의미로 사용되는 예약어, 변수명으로 사용할수 없다.\n",
        "# False, None, True, and, as, assert, break, class, continue, def, del, elif, else, except, finally, for, from, global, if,\n",
        "# import, in, is, labda, nonlocal, not, or, pass, raise, return, try, while, with, yield"
      ],
      "metadata": {
        "id": "145dNY_jTD0V"
      },
      "execution_count": null,
      "outputs": []
    },
    {
      "cell_type": "code",
      "source": [
        "# 변수명 권장사항\n",
        "# - 의미가 명확한 이름을 사용한다.\n",
        "# - snake_case 단어사이의 언더스코어를 권장한다.\n",
        "# - 너무 짧거나 긴 이름은 피한다."
      ],
      "metadata": {
        "id": "_McQ2I6PT7dl"
      },
      "execution_count": null,
      "outputs": []
    },
    {
      "cell_type": "code",
      "source": [
        "# 좋은 예\n",
        "student_name = \"김철수\"\n",
        "total_score = 95\n",
        "user_age = 20\n",
        "\n",
        "# 피해야 할 예\n",
        "a = \"김철수\"  # 의미 불명확\n",
        "studentNameFromKorea = \"김철수\" # 너무 긴 이름"
      ],
      "metadata": {
        "id": "-NipcuPzUSkU"
      },
      "execution_count": null,
      "outputs": []
    },
    {
      "cell_type": "code",
      "source": [
        "# 변수란?\n",
        "# - 객체를 가리키는 것이라고도 말할 수 있다. 자료형의 데이터(값)와 같은 것을 의미하는 말\n",
        "a = [1,2,3]\n",
        "id(a)       # a 변수가 가리키는 메모리의 주소"
      ],
      "metadata": {
        "colab": {
          "base_uri": "https://localhost:8080/"
        },
        "id": "3-Um7E4CWZPc",
        "outputId": "77a1f356-a165-405c-8bbf-ee95466e9311"
      },
      "execution_count": 1,
      "outputs": [
        {
          "output_type": "execute_result",
          "data": {
            "text/plain": [
              "132538940961472"
            ]
          },
          "metadata": {},
          "execution_count": 1
        }
      ]
    },
    {
      "cell_type": "code",
      "source": [
        "# 리스트를 복사하고자 할 때\n",
        "a = [1,2,3]\n",
        "b = a\n",
        "id(a)\n",
        "id(b)"
      ],
      "metadata": {
        "colab": {
          "base_uri": "https://localhost:8080/"
        },
        "id": "H9-KCqXnW8S8",
        "outputId": "38c8399f-3dc1-4ba8-8ebf-99ad6fbbc4c7"
      },
      "execution_count": 6,
      "outputs": [
        {
          "output_type": "execute_result",
          "data": {
            "text/plain": [
              "132538262129664"
            ]
          },
          "metadata": {},
          "execution_count": 6
        }
      ]
    },
    {
      "cell_type": "code",
      "source": [
        "# a와 b가 가리키는 객체가 같을까?\n",
        "a = [1,2,3]\n",
        "b = a\n",
        "a is b"
      ],
      "metadata": {
        "colab": {
          "base_uri": "https://localhost:8080/"
        },
        "id": "SnE6Wep5XIgr",
        "outputId": "f40fc024-b209-483e-deee-9f8ed851a6a0"
      },
      "execution_count": 7,
      "outputs": [
        {
          "output_type": "execute_result",
          "data": {
            "text/plain": [
              "True"
            ]
          },
          "metadata": {},
          "execution_count": 7
        }
      ]
    },
    {
      "cell_type": "code",
      "source": [
        "a[1] = 4\n",
        "a"
      ],
      "metadata": {
        "colab": {
          "base_uri": "https://localhost:8080/"
        },
        "id": "J4fzinFnacK7",
        "outputId": "a5175f07-9f99-42eb-f1fd-e3c4931ac97e"
      },
      "execution_count": 8,
      "outputs": [
        {
          "output_type": "execute_result",
          "data": {
            "text/plain": [
              "[1, 4, 3]"
            ]
          },
          "metadata": {},
          "execution_count": 8
        }
      ]
    },
    {
      "cell_type": "code",
      "source": [
        "b"
      ],
      "metadata": {
        "colab": {
          "base_uri": "https://localhost:8080/"
        },
        "id": "B1FnmToYak-7",
        "outputId": "7978383e-22cb-463e-d94e-0616155b7a09"
      },
      "execution_count": 9,
      "outputs": [
        {
          "output_type": "execute_result",
          "data": {
            "text/plain": [
              "[1, 4, 3]"
            ]
          },
          "metadata": {},
          "execution_count": 9
        }
      ]
    },
    {
      "cell_type": "code",
      "source": [
        "# [:]이용하기 - 리스트 전체\n",
        "a = [1,2,3]\n",
        "b = a[:]\n",
        "a[1] = 4\n",
        "a"
      ],
      "metadata": {
        "colab": {
          "base_uri": "https://localhost:8080/"
        },
        "id": "OvxTWnTdanay",
        "outputId": "63493b85-93d6-4136-d982-1ab60e6ebd87"
      },
      "execution_count": 11,
      "outputs": [
        {
          "output_type": "execute_result",
          "data": {
            "text/plain": [
              "[1, 4, 3]"
            ]
          },
          "metadata": {},
          "execution_count": 11
        }
      ]
    },
    {
      "cell_type": "code",
      "source": [
        "b"
      ],
      "metadata": {
        "colab": {
          "base_uri": "https://localhost:8080/"
        },
        "id": "mOO25YUMa1Yj",
        "outputId": "ef2c9eff-136b-49da-93c9-f79270a5924b"
      },
      "execution_count": 12,
      "outputs": [
        {
          "output_type": "execute_result",
          "data": {
            "text/plain": [
              "[1, 2, 3]"
            ]
          },
          "metadata": {},
          "execution_count": 12
        }
      ]
    },
    {
      "cell_type": "code",
      "source": [
        "# copy 모듈 이용하기\n",
        "from copy import copy\n",
        "a = [1,2,3]\n",
        "b = copy(a)   # 값을 복사\n",
        "b is a        # 객체는 다름"
      ],
      "metadata": {
        "colab": {
          "base_uri": "https://localhost:8080/"
        },
        "id": "F2AAFwpjbCnz",
        "outputId": "6c23ef31-78f8-4a94-cecd-4c16639bf248"
      },
      "execution_count": 13,
      "outputs": [
        {
          "output_type": "execute_result",
          "data": {
            "text/plain": [
              "False"
            ]
          },
          "metadata": {},
          "execution_count": 13
        }
      ]
    },
    {
      "cell_type": "code",
      "source": [
        "# copy 함수 사용하기\n",
        "a = [1,2,3]\n",
        "b = a.copy()  #  리스트 자료형의 copy 함수\n",
        "b is a"
      ],
      "metadata": {
        "colab": {
          "base_uri": "https://localhost:8080/"
        },
        "id": "TCZG9VPebs_b",
        "outputId": "f55028e9-6ea0-4312-aa0d-18946801e6d2"
      },
      "execution_count": 14,
      "outputs": [
        {
          "output_type": "execute_result",
          "data": {
            "text/plain": [
              "False"
            ]
          },
          "metadata": {},
          "execution_count": 14
        }
      ]
    },
    {
      "cell_type": "code",
      "source": [
        "# 변수를 만드는 여러가지 방법\n",
        "# 튜플\n",
        "a, b = ('python', 'life')"
      ],
      "metadata": {
        "id": "xqO_g6otb_zj"
      },
      "execution_count": null,
      "outputs": []
    },
    {
      "cell_type": "code",
      "source": [
        "# 튜플과 동일 - 튜플은 괄호 생략 가능\n",
        " (a, b) = ('python', 'life')"
      ],
      "metadata": {
        "id": "_Nl2E4WjcNm6"
      },
      "execution_count": null,
      "outputs": []
    },
    {
      "cell_type": "code",
      "source": [
        "# 리스트\n",
        "[a, b] = ['python', 'life']"
      ],
      "metadata": {
        "id": "NSOid1w5cQ3S"
      },
      "execution_count": null,
      "outputs": []
    },
    {
      "cell_type": "code",
      "source": [
        "# 대입\n",
        "a = b = 'python'"
      ],
      "metadata": {
        "id": "U6M2X_vecWka"
      },
      "execution_count": null,
      "outputs": []
    },
    {
      "cell_type": "code",
      "source": [
        "# 바꾸기\n",
        "a = 3\n",
        "b = 5\n",
        "a, b = b, a\n",
        "a"
      ],
      "metadata": {
        "colab": {
          "base_uri": "https://localhost:8080/"
        },
        "id": "rneZYKd_caNL",
        "outputId": "f9addd3a-0675-4eec-e2a6-9637ccf13cd8"
      },
      "execution_count": 15,
      "outputs": [
        {
          "output_type": "execute_result",
          "data": {
            "text/plain": [
              "5"
            ]
          },
          "metadata": {},
          "execution_count": 15
        }
      ]
    },
    {
      "cell_type": "code",
      "source": [
        "b"
      ],
      "metadata": {
        "colab": {
          "base_uri": "https://localhost:8080/"
        },
        "id": "xAU_-ZeOc5QS",
        "outputId": "cf67c7dc-50d0-4732-a47e-263aacb197b4"
      },
      "execution_count": 16,
      "outputs": [
        {
          "output_type": "execute_result",
          "data": {
            "text/plain": [
              "3"
            ]
          },
          "metadata": {},
          "execution_count": 16
        }
      ]
    }
  ]
}