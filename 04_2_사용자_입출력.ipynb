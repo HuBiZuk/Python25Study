{
  "nbformat": 4,
  "nbformat_minor": 0,
  "metadata": {
    "colab": {
      "provenance": [],
      "authorship_tag": "ABX9TyOLnGATDLyjt9c5hexfWCij",
      "include_colab_link": true
    },
    "kernelspec": {
      "name": "python3",
      "display_name": "Python 3"
    },
    "language_info": {
      "name": "python"
    }
  },
  "cells": [
    {
      "cell_type": "markdown",
      "metadata": {
        "id": "view-in-github",
        "colab_type": "text"
      },
      "source": [
        "<a href=\"https://colab.research.google.com/github/HuBiZuk/Python25Study/blob/main/04_2_%EC%82%AC%EC%9A%A9%EC%9E%90_%EC%9E%85%EC%B6%9C%EB%A0%A5.ipynb\" target=\"_parent\"><img src=\"https://colab.research.google.com/assets/colab-badge.svg\" alt=\"Open In Colab\"/></a>"
      ]
    },
    {
      "cell_type": "code",
      "execution_count": 4,
      "metadata": {
        "colab": {
          "base_uri": "https://localhost:8080/",
          "height": 54
        },
        "id": "Gnfx8IB2D9WN",
        "outputId": "1cfef980-971a-4881-d8ea-4a8246cd9378"
      },
      "outputs": [
        {
          "name": "stdout",
          "output_type": "stream",
          "text": [
            "hahahahaha\n"
          ]
        },
        {
          "output_type": "execute_result",
          "data": {
            "text/plain": [
              "'hahahahaha'"
            ],
            "application/vnd.google.colaboratory.intrinsic+json": {
              "type": "string"
            }
          },
          "metadata": {},
          "execution_count": 4
        }
      ],
      "source": [
        "# input 사용하기\n",
        "a = input()\n",
        "a"
      ]
    },
    {
      "cell_type": "code",
      "source": [
        "# 프롬프트를 띄워 사용자 입력받기\n",
        "input(\"안내문구\")"
      ],
      "metadata": {
        "colab": {
          "base_uri": "https://localhost:8080/",
          "height": 54
        },
        "id": "JrPQrgwmIcdz",
        "outputId": "03ea5743-1f2d-4aa3-eeff-035f26369961"
      },
      "execution_count": 5,
      "outputs": [
        {
          "name": "stdout",
          "output_type": "stream",
          "text": [
            "안내문구?\n"
          ]
        },
        {
          "output_type": "execute_result",
          "data": {
            "text/plain": [
              "'?'"
            ],
            "application/vnd.google.colaboratory.intrinsic+json": {
              "type": "string"
            }
          },
          "metadata": {},
          "execution_count": 5
        }
      ]
    },
    {
      "cell_type": "code",
      "source": [
        "number = input(\"숫자를 입력하세요: \")\n",
        "print(number)\n",
        "type(number)"
      ],
      "metadata": {
        "colab": {
          "base_uri": "https://localhost:8080/"
        },
        "id": "alv68aiWIlmq",
        "outputId": "ba36dffb-3f25-434f-bee2-db2175a57540"
      },
      "execution_count": 8,
      "outputs": [
        {
          "output_type": "stream",
          "name": "stdout",
          "text": [
            "숫자를 입력하세요: 3\n",
            "3\n"
          ]
        },
        {
          "output_type": "execute_result",
          "data": {
            "text/plain": [
              "str"
            ]
          },
          "metadata": {},
          "execution_count": 8
        }
      ]
    },
    {
      "cell_type": "code",
      "source": [
        "# [입력값을 숫자로 변환하기]"
      ],
      "metadata": {
        "id": "rTONoO3vI4RT"
      },
      "execution_count": null,
      "outputs": []
    },
    {
      "cell_type": "code",
      "source": [
        "# 정수로 변환하기\n",
        "age = input(\"나이를 입력하세요: \")\n",
        "age = int(age)  # 문자열을 정수로 변환\n",
        "print(age+1)"
      ],
      "metadata": {
        "colab": {
          "base_uri": "https://localhost:8080/"
        },
        "id": "cmZB-AIBI8Zq",
        "outputId": "ee937a36-03c6-47cf-d6de-b2fbf8dd27c1"
      },
      "execution_count": 9,
      "outputs": [
        {
          "output_type": "stream",
          "name": "stdout",
          "text": [
            "나이를 입력하세요: 26\n",
            "27\n"
          ]
        }
      ]
    },
    {
      "cell_type": "code",
      "source": [
        "# 실수로 변환하기\n",
        "height = input(\"키를 입력하세요(cm):\")\n",
        "height = float(height)  # 문자열을 실수로 변환\n",
        "print(height /100)  # 미터 단위로 변환\n",
        "# float() 함수는 문자열이나 정수를 실수로 변환하는 파이썬 내장 함수"
      ],
      "metadata": {
        "colab": {
          "base_uri": "https://localhost:8080/"
        },
        "id": "cJj0vwQ_JNib",
        "outputId": "c8e32d29-05ee-49f7-c786-b69e4ff0bb2d"
      },
      "execution_count": 10,
      "outputs": [
        {
          "output_type": "stream",
          "name": "stdout",
          "text": [
            "키를 입력하세요(cm):176\n",
            "1.76\n"
          ]
        }
      ]
    },
    {
      "cell_type": "code",
      "source": [
        "# 한번에 변환하기\n",
        "age = int(input(\"나이를 입력하세요: \"))\n",
        "print(type(age))"
      ],
      "metadata": {
        "colab": {
          "base_uri": "https://localhost:8080/"
        },
        "id": "1QxcXFfLJ24j",
        "outputId": "180b2fdd-f8e9-4401-dc8c-9b8720946077"
      },
      "execution_count": 11,
      "outputs": [
        {
          "output_type": "stream",
          "name": "stdout",
          "text": [
            "나이를 입력하세요: 39\n",
            "<class 'int'>\n"
          ]
        }
      ]
    },
    {
      "cell_type": "code",
      "source": [
        "# print 자세히 알기\n",
        "a = 123\n",
        "print(a)\n",
        "\n",
        "a = \"Python\"\n",
        "print(a)\n",
        "\n",
        "a = [ 1,2,3]\n",
        "print(a)"
      ],
      "metadata": {
        "colab": {
          "base_uri": "https://localhost:8080/"
        },
        "id": "AcDuvqKjKGgb",
        "outputId": "3651717f-9bef-4f9d-c3c0-344479d66e80"
      },
      "execution_count": 12,
      "outputs": [
        {
          "output_type": "stream",
          "name": "stdout",
          "text": [
            "123\n",
            "Python\n",
            "[1, 2, 3]\n"
          ]
        }
      ]
    },
    {
      "cell_type": "code",
      "source": [
        "# 큰 따옴표로 둘러싸인 문자열은 + 연산과 동일하다\n",
        "print(\"life\" \"is\" \"too short\")  # 1번\n",
        "\n",
        "print(\"life\"+\"is\"+\"too short\")  # 2번"
      ],
      "metadata": {
        "colab": {
          "base_uri": "https://localhost:8080/"
        },
        "id": "SlUpywKiKXXy",
        "outputId": "527522a1-7723-4eb0-cf31-0de5dcd2383c"
      },
      "execution_count": 13,
      "outputs": [
        {
          "output_type": "stream",
          "name": "stdout",
          "text": [
            "lifeistoo short\n",
            "lifeistoo short\n"
          ]
        }
      ]
    },
    {
      "cell_type": "code",
      "source": [
        "# 문자열 띄어쓰기는 쉼표로 한다\n",
        "print(\"life\", \"is\", \"too short\")\n"
      ],
      "metadata": {
        "colab": {
          "base_uri": "https://localhost:8080/"
        },
        "id": "XP3OF7z5KySS",
        "outputId": "791b94bf-5686-445f-bc31-1f2341fa422e"
      },
      "execution_count": 14,
      "outputs": [
        {
          "output_type": "stream",
          "name": "stdout",
          "text": [
            "life is too short\n"
          ]
        }
      ]
    },
    {
      "cell_type": "code",
      "source": [
        "# sep 매개변수로 구분자 설정하기\n",
        "print(\"2025\", \"08\", \"17\", sep=\"-\")\n",
        "\n",
        "print(\"점프\", \"투\", \"파이썬\", sep=\" to \")"
      ],
      "metadata": {
        "colab": {
          "base_uri": "https://localhost:8080/"
        },
        "id": "fEei6bwVK81i",
        "outputId": "d4411a29-1557-4b64-8cda-e5cf1b46e214"
      },
      "execution_count": 15,
      "outputs": [
        {
          "output_type": "stream",
          "name": "stdout",
          "text": [
            "2025-08-17\n",
            "점프 to 투 to 파이썬\n"
          ]
        }
      ]
    },
    {
      "cell_type": "code",
      "source": [
        "# 한줄에 결과값 출력하기\n",
        "for i in range(10):\n",
        "  print(i, end=' ')"
      ],
      "metadata": {
        "colab": {
          "base_uri": "https://localhost:8080/"
        },
        "id": "LVQyyN7GLQMj",
        "outputId": "ea94da05-f393-4a64-c0ca-450106cff6ca"
      },
      "execution_count": 16,
      "outputs": [
        {
          "output_type": "stream",
          "name": "stdout",
          "text": [
            "0 1 2 3 4 5 6 7 8 9 "
          ]
        }
      ]
    },
    {
      "cell_type": "code",
      "source": [
        "# 실습: 간단한 계산기 만들기\n",
        "print(\"====간단한 계산기====\")\n",
        "\n",
        "# 사용자로부터 두 숫자 입력받기\n",
        "num1 = float(input(\"첫번째 숫자를 입력하세요: \"))\n",
        "num2 = float(input(\"두번째 숫자를 입력하세요: \"))\n",
        "\n",
        "# 계산결과 출력\n",
        "print(f\"{num1} + {num2} = {num1 + num2}\")\n",
        "print(f\"{num1} + {num2} = {num1 - num2}\")\n",
        "print(f\"{num1} + {num2} = {num1 * num2}\")\n",
        "\n",
        "if num2 !=0:\n",
        "  print(f\"{num1} / {num2} = {num1 / num2}\")\n",
        "else:\n",
        "  print(\"0으로 나눌 수 없습니다.\")"
      ],
      "metadata": {
        "colab": {
          "base_uri": "https://localhost:8080/"
        },
        "id": "_1Oo457bLQiq",
        "outputId": "d5b26a63-6d17-4473-fb47-65cfad53597a"
      },
      "execution_count": 17,
      "outputs": [
        {
          "output_type": "stream",
          "name": "stdout",
          "text": [
            "====간단한 계산기====\n",
            "첫번째 숫자를 입력하세요: 2\n",
            "두번째 숫자를 입력하세요: 3\n",
            "2.0 + 3.0 = 5.0\n",
            "2.0 + 3.0 = -1.0\n",
            "2.0 + 3.0 = 6.0\n",
            "2.0 / 3.0 = 0.6666666666666666\n"
          ]
        }
      ]
    }
  ]
}