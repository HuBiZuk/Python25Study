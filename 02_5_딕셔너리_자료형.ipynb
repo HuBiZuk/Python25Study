{
  "nbformat": 4,
  "nbformat_minor": 0,
  "metadata": {
    "colab": {
      "provenance": [],
      "authorship_tag": "ABX9TyOIUTBnpym/uAVfUEQDJgSp",
      "include_colab_link": true
    },
    "kernelspec": {
      "name": "python3",
      "display_name": "Python 3"
    },
    "language_info": {
      "name": "python"
    }
  },
  "cells": [
    {
      "cell_type": "markdown",
      "metadata": {
        "id": "view-in-github",
        "colab_type": "text"
      },
      "source": [
        "<a href=\"https://colab.research.google.com/github/HuBiZuk/Python25Study/blob/main/02_5_%EB%94%95%EC%85%94%EB%84%88%EB%A6%AC_%EC%9E%90%EB%A3%8C%ED%98%95.ipynb\" target=\"_parent\"><img src=\"https://colab.research.google.com/assets/colab-badge.svg\" alt=\"Open In Colab\"/></a>"
      ]
    },
    {
      "cell_type": "code",
      "execution_count": null,
      "metadata": {
        "id": "QAROUV7yCCel"
      },
      "outputs": [],
      "source": [
        "# dictionary 자료형 : 연관배열(associative array) 또는 해시(hash) 라고도 함\n",
        "# key와 vlaue를 한 쌍으로 가지는 자료형\n",
        "dic = {'name': 'pey', 'phone': '010-9999-1234', 'birth': '1118'}\n",
        "\n",
        "a = {1:'hi'} # key로 정수값 1, value 로 문자열 'hi' 사용\n",
        "a = {'a': [1,2,3]} # value에 리스트 사용"
      ]
    },
    {
      "cell_type": "code",
      "source": [
        "# 딕셔너리 쌍 추가, 삭제하기"
      ],
      "metadata": {
        "id": "w8RHt7g1D657"
      },
      "execution_count": null,
      "outputs": []
    },
    {
      "cell_type": "code",
      "source": [
        "# 딕셔너리 쌍 추가하기\n",
        "a = {1: 'a'}\n",
        "a[2] = 'b'\n",
        "a"
      ],
      "metadata": {
        "id": "Y4cwroftD-6C"
      },
      "execution_count": null,
      "outputs": []
    },
    {
      "cell_type": "code",
      "source": [
        "# 딕셔너리 쌍 추가하기\n",
        "a = {1: 'a'}\n",
        "a[2] = 'b'\n",
        "a\n",
        "a['name'] = 'pey'\n",
        "a"
      ],
      "metadata": {
        "id": "dAstx7bbESmr"
      },
      "execution_count": null,
      "outputs": []
    },
    {
      "cell_type": "code",
      "source": [
        "# 딕셔너리 쌍 추가하기\n",
        "a = {1: 'a'}\n",
        "a[2] = 'b'\n",
        "a\n",
        "a['name'] = 'pey'\n",
        "a\n",
        "a[3] = [1,2,3]\n",
        "a"
      ],
      "metadata": {
        "id": "EyrntXfGGkkk"
      },
      "execution_count": null,
      "outputs": []
    },
    {
      "cell_type": "code",
      "source": [
        "# 딕셔너리 요소 삭제하기\n",
        "a = {1: 'a'}\n",
        "a[2] = 'b'\n",
        "a\n",
        "a['name'] = 'pey'\n",
        "a\n",
        "a[3] = [1,2,3]\n",
        "a\n",
        "del a[1]\n",
        "a"
      ],
      "metadata": {
        "id": "uNEqeFBFGtAT"
      },
      "execution_count": null,
      "outputs": []
    },
    {
      "cell_type": "code",
      "source": [
        "# 딕셔너리를 사용하는 방법\n",
        "# {\"김연아\":\"피겨스케이팅\", \"류현진\":\"야구\", \"손흥민\":\"축구\", \"귀도\":\"파이썬\"}"
      ],
      "metadata": {
        "id": "euLgbG3sG7li"
      },
      "execution_count": null,
      "outputs": []
    },
    {
      "cell_type": "code",
      "source": [
        "# 딕셔너리에서 key를 사용해 value 얻기\n",
        "grade = {'pey':10, 'julliet':99}\n",
        "grade['pey']\n"
      ],
      "metadata": {
        "id": "D8oGy103Hj4T"
      },
      "execution_count": null,
      "outputs": []
    },
    {
      "cell_type": "code",
      "source": [
        "# 딕셔너리에서 key를 사용해 value 얻기\n",
        "grade = {'pey':10, 'julliet':99}\n",
        "grade['pey']\n",
        "grade['julliet']"
      ],
      "metadata": {
        "id": "r9uOrYGlH2yL"
      },
      "execution_count": null,
      "outputs": []
    },
    {
      "cell_type": "code",
      "source": [
        "a = {1:'a', 2:'b'}\n",
        "a[1]"
      ],
      "metadata": {
        "id": "iIMjXiCxH8rq"
      },
      "execution_count": null,
      "outputs": []
    },
    {
      "cell_type": "code",
      "source": [
        "a = {1:'a', 2:'b'}\n",
        "a[2]"
      ],
      "metadata": {
        "id": "rISCvz4QIELK"
      },
      "execution_count": null,
      "outputs": []
    },
    {
      "cell_type": "code",
      "source": [
        "a = {'a':1, 'b':2}\n",
        "a['a']"
      ],
      "metadata": {
        "id": "8exp8nuRIMQi"
      },
      "execution_count": null,
      "outputs": []
    },
    {
      "cell_type": "code",
      "source": [
        "a = {'a':1, 'b':2}\n",
        "a['b']"
      ],
      "metadata": {
        "id": "-I4WSj2eIPGC"
      },
      "execution_count": null,
      "outputs": []
    },
    {
      "cell_type": "code",
      "source": [
        "dic = {'name':'pey', 'phone':'010-9999-1234', 'birth':'1118'}\n",
        "dic['name']"
      ],
      "metadata": {
        "id": "2kVH519jISuS"
      },
      "execution_count": null,
      "outputs": []
    },
    {
      "cell_type": "code",
      "source": [
        "dic = {'name':'pey', 'phone':'010-9999-1234', 'birth':'1118'}\n",
        "dic['phone']"
      ],
      "metadata": {
        "id": "_nHWNdS4IsS7"
      },
      "execution_count": null,
      "outputs": []
    },
    {
      "cell_type": "code",
      "source": [
        "dic = {'name':'pey', 'phone':'010-9999-1234', 'birth':'1118'}\n",
        "dic['birth']"
      ],
      "metadata": {
        "id": "w-YgBsOSIyRs"
      },
      "execution_count": null,
      "outputs": []
    },
    {
      "cell_type": "code",
      "source": [
        "# 딕셔너리 만들 때 주의할 사항\n",
        "# key가 2개 존재할 경우 1:'a' 쌍이 무시된다.\n",
        "a = {1:'a', 1:'b'}\n",
        "a"
      ],
      "metadata": {
        "id": "nkmJVWT4I3KS"
      },
      "execution_count": null,
      "outputs": []
    },
    {
      "cell_type": "code",
      "source": [
        "# 딕셔너리 만들 때 주의할 사항\n",
        "# key에 리스트는 쓸 수 없다.\n",
        "#a = {[1,2] : 'hi'}\n"
      ],
      "metadata": {
        "id": "I9GqCAiAJLZU"
      },
      "execution_count": null,
      "outputs": []
    },
    {
      "cell_type": "code",
      "source": [
        "# key 리스트 만들기 - keys\n",
        "a = {'name':'pey', 'phone':'010-9999-1234', 'birth': '1118'}\n",
        "a.keys()\n",
        "list(a.keys())"
      ],
      "metadata": {
        "id": "NfXiAeesJfRr"
      },
      "execution_count": null,
      "outputs": []
    },
    {
      "cell_type": "code",
      "source": [
        "# value 리스트 만들기 - values\n",
        "a = {'name':'pey', 'phone':'010-9999-1234', 'birth': '1118'}\n",
        "a.keys()\n",
        "list(a.keys())\n",
        "a.values()"
      ],
      "metadata": {
        "id": "G8N0PdQWLCqr"
      },
      "execution_count": null,
      "outputs": []
    },
    {
      "cell_type": "code",
      "source": [
        "# key, value 쌍 얻기 - items\n",
        "a = {'name':'pey', 'phone':'010-9999-1234', 'birth': '1118'}\n",
        "a.keys()\n",
        "list(a.keys())\n",
        "a.values()\n",
        "a.items()"
      ],
      "metadata": {
        "id": "913KlIAvD1y7",
        "colab": {
          "base_uri": "https://localhost:8080/"
        },
        "outputId": "ef7e2298-158f-4ce6-abb3-05dcbd5a84de"
      },
      "execution_count": 27,
      "outputs": [
        {
          "output_type": "execute_result",
          "data": {
            "text/plain": [
              "dict_items([('name', 'pey'), ('phone', '010-9999-1234'), ('birth', '1118')])"
            ]
          },
          "metadata": {},
          "execution_count": 27
        }
      ]
    },
    {
      "cell_type": "code",
      "source": [
        "# key:value 쌍 모두 지우기 - clear\n",
        "# key, value 쌍 얻기 - items\n",
        "a = {'name':'pey', 'phone':'010-9999-1234', 'birth': '1118'}\n",
        "a.keys()\n",
        "list(a.keys())\n",
        "a.values()\n",
        "a.items()\n",
        "a.clear()\n",
        "a"
      ],
      "metadata": {
        "colab": {
          "base_uri": "https://localhost:8080/"
        },
        "id": "F0vIKpTxN5ui",
        "outputId": "548e65d6-837d-462b-f496-b021363f4d77"
      },
      "execution_count": 28,
      "outputs": [
        {
          "output_type": "execute_result",
          "data": {
            "text/plain": [
              "{}"
            ]
          },
          "metadata": {},
          "execution_count": 28
        }
      ]
    },
    {
      "cell_type": "code",
      "source": [
        "# key로 value 얻기 - get\n",
        "a = {'name': 'pey', 'phone': '010-9999-1234', 'birth': '1118'}\n",
        "a.get('name')"
      ],
      "metadata": {
        "colab": {
          "base_uri": "https://localhost:8080/",
          "height": 35
        },
        "id": "_LnB2BVFOF6a",
        "outputId": "c60a845a-824e-4534-a95f-a0b4ce0024b0"
      },
      "execution_count": 29,
      "outputs": [
        {
          "output_type": "execute_result",
          "data": {
            "text/plain": [
              "'pey'"
            ],
            "application/vnd.google.colaboratory.intrinsic+json": {
              "type": "string"
            }
          },
          "metadata": {},
          "execution_count": 29
        }
      ]
    },
    {
      "cell_type": "code",
      "source": [
        "# key로 value 얻기 - get\n",
        "a = {'name': 'pey', 'phone': '010-9999-1234', 'birth': '1118'}\n",
        "a.get('name')\n",
        "a.get('phone')"
      ],
      "metadata": {
        "colab": {
          "base_uri": "https://localhost:8080/",
          "height": 35
        },
        "id": "HVTB3xJpORBy",
        "outputId": "2264d0fe-8f44-4ee3-dd38-ca05506daff4"
      },
      "execution_count": 30,
      "outputs": [
        {
          "output_type": "execute_result",
          "data": {
            "text/plain": [
              "'010-9999-1234'"
            ],
            "application/vnd.google.colaboratory.intrinsic+json": {
              "type": "string"
            }
          },
          "metadata": {},
          "execution_count": 30
        }
      ]
    },
    {
      "cell_type": "code",
      "source": [
        "# key로 value 얻기 - get\n",
        "a = {'name': 'pey', 'phone': '010-9999-1234', 'birth': '1118'}\n",
        "a.get('nokey')\n",
        "a['nokey']\n"
      ],
      "metadata": {
        "colab": {
          "base_uri": "https://localhost:8080/",
          "height": 184
        },
        "id": "czIjQ3YtOXYC",
        "outputId": "9481f590-7b51-485a-888c-6d1dc4c1aa58"
      },
      "execution_count": 33,
      "outputs": [
        {
          "output_type": "error",
          "ename": "KeyError",
          "evalue": "'nokey'",
          "traceback": [
            "\u001b[0;31m---------------------------------------------------------------------------\u001b[0m",
            "\u001b[0;31mKeyError\u001b[0m                                  Traceback (most recent call last)",
            "\u001b[0;32m/tmp/ipython-input-1272784646.py\u001b[0m in \u001b[0;36m<cell line: 0>\u001b[0;34m()\u001b[0m\n\u001b[1;32m      2\u001b[0m \u001b[0ma\u001b[0m \u001b[0;34m=\u001b[0m \u001b[0;34m{\u001b[0m\u001b[0;34m'name'\u001b[0m\u001b[0;34m:\u001b[0m \u001b[0;34m'pey'\u001b[0m\u001b[0;34m,\u001b[0m \u001b[0;34m'phone'\u001b[0m\u001b[0;34m:\u001b[0m \u001b[0;34m'010-9999-1234'\u001b[0m\u001b[0;34m,\u001b[0m \u001b[0;34m'birth'\u001b[0m\u001b[0;34m:\u001b[0m \u001b[0;34m'1118'\u001b[0m\u001b[0;34m}\u001b[0m\u001b[0;34m\u001b[0m\u001b[0;34m\u001b[0m\u001b[0m\n\u001b[1;32m      3\u001b[0m \u001b[0ma\u001b[0m\u001b[0;34m.\u001b[0m\u001b[0mget\u001b[0m\u001b[0;34m(\u001b[0m\u001b[0;34m'nokey'\u001b[0m\u001b[0;34m)\u001b[0m\u001b[0;34m\u001b[0m\u001b[0;34m\u001b[0m\u001b[0m\n\u001b[0;32m----> 4\u001b[0;31m \u001b[0ma\u001b[0m\u001b[0;34m[\u001b[0m\u001b[0;34m'nokey'\u001b[0m\u001b[0;34m]\u001b[0m\u001b[0;34m\u001b[0m\u001b[0;34m\u001b[0m\u001b[0m\n\u001b[0m",
            "\u001b[0;31mKeyError\u001b[0m: 'nokey'"
          ]
        }
      ]
    },
    {
      "cell_type": "code",
      "source": [
        "# key로 value 얻기 - get\n",
        "a = {'name': 'pey', 'phone': '010-9999-1234', 'birth': '1118'}\n",
        "a.get('nokey', '정보없음')\n"
      ],
      "metadata": {
        "colab": {
          "base_uri": "https://localhost:8080/",
          "height": 35
        },
        "id": "F9tM7vfBOt5r",
        "outputId": "f1d814e1-16d2-4a49-ceb4-94dc7b0b9a1d"
      },
      "execution_count": 34,
      "outputs": [
        {
          "output_type": "execute_result",
          "data": {
            "text/plain": [
              "'정보없음'"
            ],
            "application/vnd.google.colaboratory.intrinsic+json": {
              "type": "string"
            }
          },
          "metadata": {},
          "execution_count": 34
        }
      ]
    },
    {
      "cell_type": "code",
      "source": [
        "# 해당 key가 딕셔너리 안에 있는지 조사하기 - in\n",
        "a = {'name': 'pey', 'phone': '010-9999-1234', 'birth': '1118'}\n",
        "'name' in a\n"
      ],
      "metadata": {
        "colab": {
          "base_uri": "https://localhost:8080/"
        },
        "id": "scXTVW9wOyxK",
        "outputId": "47d76b8c-a8ee-4332-aa37-4f5b0c1dda5f"
      },
      "execution_count": 35,
      "outputs": [
        {
          "output_type": "execute_result",
          "data": {
            "text/plain": [
              "True"
            ]
          },
          "metadata": {},
          "execution_count": 35
        }
      ]
    },
    {
      "cell_type": "code",
      "source": [
        "# 해당 key가 딕셔너리 안에 있는지 조사하기 - in\n",
        "a = {'name': 'pey', 'phone': '010-9999-1234', 'birth': '1118'}\n",
        "'email' in a\n"
      ],
      "metadata": {
        "colab": {
          "base_uri": "https://localhost:8080/"
        },
        "id": "UKj8TSpRO9Vq",
        "outputId": "b3f831ec-4854-4e20-f423-d1a3a9c9a04c"
      },
      "execution_count": 36,
      "outputs": [
        {
          "output_type": "execute_result",
          "data": {
            "text/plain": [
              "False"
            ]
          },
          "metadata": {},
          "execution_count": 36
        }
      ]
    },
    {
      "cell_type": "code",
      "source": [
        "# key로 value 얻기 - pop\n",
        "a = {'name': 'pey', 'phone': '010-9999-1234', 'birth': '1118'}\n",
        "phone = a.pop('phone')\n",
        "phone\n",
        "\n"
      ],
      "metadata": {
        "colab": {
          "base_uri": "https://localhost:8080/",
          "height": 35
        },
        "id": "cHayZjrAPFtW",
        "outputId": "4a705557-a21e-4871-83a0-a88a6cd2881b"
      },
      "execution_count": 37,
      "outputs": [
        {
          "output_type": "execute_result",
          "data": {
            "text/plain": [
              "'010-9999-1234'"
            ],
            "application/vnd.google.colaboratory.intrinsic+json": {
              "type": "string"
            }
          },
          "metadata": {},
          "execution_count": 37
        }
      ]
    },
    {
      "cell_type": "code",
      "source": [
        "# key로 value 얻기 - pop\n",
        "a = {'name': 'pey', 'phone': '010-9999-1234', 'birth': '1118'}\n",
        "phone = a.pop('phone')\n",
        "phone\n",
        "a"
      ],
      "metadata": {
        "colab": {
          "base_uri": "https://localhost:8080/"
        },
        "id": "n7uG3VcMPRnC",
        "outputId": "e854c9e4-1dd5-4cbb-d571-01849e644051"
      },
      "execution_count": 38,
      "outputs": [
        {
          "output_type": "execute_result",
          "data": {
            "text/plain": [
              "{'name': 'pey', 'birth': '1118'}"
            ]
          },
          "metadata": {},
          "execution_count": 38
        }
      ]
    },
    {
      "cell_type": "code",
      "source": [
        "# key로 value 얻기 - pop\n",
        "a = {'name': 'pey', 'phone': '010-9999-1234', 'birth': '1118'}\n",
        "phone = a.pop('phone')\n",
        "phone\n",
        "email = a.pop('email', '정보없음')\n",
        "email"
      ],
      "metadata": {
        "colab": {
          "base_uri": "https://localhost:8080/",
          "height": 35
        },
        "id": "s05bTy3KPTqz",
        "outputId": "5177aa34-4298-410d-a7d4-4159f6ab47f2"
      },
      "execution_count": 39,
      "outputs": [
        {
          "output_type": "execute_result",
          "data": {
            "text/plain": [
              "'정보없음'"
            ],
            "application/vnd.google.colaboratory.intrinsic+json": {
              "type": "string"
            }
          },
          "metadata": {},
          "execution_count": 39
        }
      ]
    }
  ]
}