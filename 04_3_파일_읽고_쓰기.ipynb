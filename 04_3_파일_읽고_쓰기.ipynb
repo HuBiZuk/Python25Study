{
  "nbformat": 4,
  "nbformat_minor": 0,
  "metadata": {
    "colab": {
      "provenance": [],
      "authorship_tag": "ABX9TyN0kersEQLLN6nCBZ8ZHk5h",
      "include_colab_link": true
    },
    "kernelspec": {
      "name": "python3",
      "display_name": "Python 3"
    },
    "language_info": {
      "name": "python"
    }
  },
  "cells": [
    {
      "cell_type": "markdown",
      "metadata": {
        "id": "view-in-github",
        "colab_type": "text"
      },
      "source": [
        "<a href=\"https://colab.research.google.com/github/HuBiZuk/Python25Study/blob/main/04_3_%ED%8C%8C%EC%9D%BC_%EC%9D%BD%EA%B3%A0_%EC%93%B0%EA%B8%B0.ipynb\" target=\"_parent\"><img src=\"https://colab.research.google.com/assets/colab-badge.svg\" alt=\"Open In Colab\"/></a>"
      ]
    },
    {
      "cell_type": "code",
      "execution_count": 1,
      "metadata": {
        "id": "yd--Y9zNMvxX"
      },
      "outputs": [],
      "source": [
        "# 파일 생성하기\n",
        "f = open(\"새파일.txt\", 'w')\n",
        "f.close()"
      ]
    },
    {
      "cell_type": "code",
      "source": [
        "# 지정경로에 생성\n",
        "f = open(\"c:/doit/새파일.txt\", 'w')\n",
        "f.close()"
      ],
      "metadata": {
        "id": "15h2B6EnNV2M"
      },
      "execution_count": null,
      "outputs": []
    },
    {
      "cell_type": "code",
      "source": [
        "# 파일 쓰기 모드로 열어 내용 쓰기\n",
        "f = open(\"새파일.txt\",'w')\n",
        "for i in range(1, 11):\n",
        "  data = \"%d번째 줄 입니다.\\n\" % i\n",
        "  f.write(data)\n",
        "f.close()"
      ],
      "metadata": {
        "id": "aWib_mzVNk4S"
      },
      "execution_count": 3,
      "outputs": []
    },
    {
      "cell_type": "code",
      "source": [
        "# 파일을 읽는 여러가지 방법"
      ],
      "metadata": {
        "id": "OXIV15--Oxwk"
      },
      "execution_count": null,
      "outputs": []
    },
    {
      "cell_type": "code",
      "source": [
        "# readline 함수 이용하기\n",
        "f = open(\"새파일.txt\", 'r')\n",
        "line = f.readline()\n",
        "print(line)\n",
        "f.close()"
      ],
      "metadata": {
        "colab": {
          "base_uri": "https://localhost:8080/"
        },
        "id": "zDqrn4jcO0bK",
        "outputId": "10a374e8-48da-470e-ca22-57b0c1315972"
      },
      "execution_count": 4,
      "outputs": [
        {
          "output_type": "stream",
          "name": "stdout",
          "text": [
            "1번째 줄 입니다.\n",
            "\n"
          ]
        }
      ]
    },
    {
      "cell_type": "code",
      "source": [
        "# 모든줄을 출력하고 싶을때\n",
        "f = open(\"새파일.txt\", 'r')\n",
        "while True:\n",
        "  line = f.readline()\n",
        "  if not line: break\n",
        "  print(line)\n",
        "f.close()"
      ],
      "metadata": {
        "colab": {
          "base_uri": "https://localhost:8080/"
        },
        "id": "1Cu16lFsPKQD",
        "outputId": "0940980d-308c-4e7c-8b95-eb4975137c83"
      },
      "execution_count": 7,
      "outputs": [
        {
          "output_type": "stream",
          "name": "stdout",
          "text": [
            "1번째 줄 입니다.\n",
            "\n",
            "2번째 줄 입니다.\n",
            "\n",
            "3번째 줄 입니다.\n",
            "\n",
            "4번째 줄 입니다.\n",
            "\n",
            "5번째 줄 입니다.\n",
            "\n",
            "6번째 줄 입니다.\n",
            "\n",
            "7번째 줄 입니다.\n",
            "\n",
            "8번째 줄 입니다.\n",
            "\n",
            "9번째 줄 입니다.\n",
            "\n",
            "10번째 줄 입니다.\n",
            "\n"
          ]
        }
      ]
    },
    {
      "cell_type": "code",
      "source": [
        "# readline 함수 사용하기\n",
        "f = open(\"새파일.txt\", 'r')\n",
        "lines =f.readlines()\n",
        "for line in lines:\n",
        "  print(line)\n",
        "f.close()"
      ],
      "metadata": {
        "colab": {
          "base_uri": "https://localhost:8080/"
        },
        "collapsed": true,
        "id": "ZtnIV4ZMPlqU",
        "outputId": "de2f1ed7-8e09-4c91-d16e-24d60299ec36"
      },
      "execution_count": 8,
      "outputs": [
        {
          "output_type": "stream",
          "name": "stdout",
          "text": [
            "1번째 줄 입니다.\n",
            "\n",
            "2번째 줄 입니다.\n",
            "\n",
            "3번째 줄 입니다.\n",
            "\n",
            "4번째 줄 입니다.\n",
            "\n",
            "5번째 줄 입니다.\n",
            "\n",
            "6번째 줄 입니다.\n",
            "\n",
            "7번째 줄 입니다.\n",
            "\n",
            "8번째 줄 입니다.\n",
            "\n",
            "9번째 줄 입니다.\n",
            "\n",
            "10번째 줄 입니다.\n",
            "\n"
          ]
        }
      ]
    },
    {
      "cell_type": "code",
      "source": [
        "# 줄바꿈 문자 제거하기\n",
        "f = open(\"새파일.txt\", 'r')\n",
        "lines =f.readlines()\n",
        "\n",
        "for line in lines:\n",
        "  line = line.strip()   # 줄 끝의 줄바꿈 문자를 제거한다.\n",
        "  print(line)\n",
        "  f.close()\n"
      ],
      "metadata": {
        "colab": {
          "base_uri": "https://localhost:8080/"
        },
        "id": "sgAhl_c5P9hb",
        "outputId": "a9421051-3d49-46bb-8d76-128a6bd175f6"
      },
      "execution_count": 9,
      "outputs": [
        {
          "output_type": "stream",
          "name": "stdout",
          "text": [
            "1번째 줄 입니다.\n",
            "2번째 줄 입니다.\n",
            "3번째 줄 입니다.\n",
            "4번째 줄 입니다.\n",
            "5번째 줄 입니다.\n",
            "6번째 줄 입니다.\n",
            "7번째 줄 입니다.\n",
            "8번째 줄 입니다.\n",
            "9번째 줄 입니다.\n",
            "10번째 줄 입니다.\n"
          ]
        }
      ]
    },
    {
      "cell_type": "code",
      "source": [
        "# read 함수 사용하기\n",
        "f = open(\"새파일.txt\", 'r')\n",
        "data = f.read()\n",
        "print(data)\n",
        "f.close()"
      ],
      "metadata": {
        "colab": {
          "base_uri": "https://localhost:8080/"
        },
        "id": "fegucwDVQV0M",
        "outputId": "f99137d7-74b3-4e6a-f1c2-87b68fe41ff5"
      },
      "execution_count": 11,
      "outputs": [
        {
          "output_type": "stream",
          "name": "stdout",
          "text": [
            "1번째 줄 입니다.\n",
            "2번째 줄 입니다.\n",
            "3번째 줄 입니다.\n",
            "4번째 줄 입니다.\n",
            "5번째 줄 입니다.\n",
            "6번째 줄 입니다.\n",
            "7번째 줄 입니다.\n",
            "8번째 줄 입니다.\n",
            "9번째 줄 입니다.\n",
            "10번째 줄 입니다.\n",
            "\n"
          ]
        }
      ]
    },
    {
      "cell_type": "code",
      "source": [
        "# 파일 객체를 for 문과 함께 사용하기\n",
        "f = open(\"새파일.txt\", 'r')\n",
        "for line in f:\n",
        "  print(line)\n",
        "f.close()"
      ],
      "metadata": {
        "colab": {
          "base_uri": "https://localhost:8080/"
        },
        "id": "pQbun0p9RQFM",
        "outputId": "136cfd10-f908-493e-8801-b2ccc73db08c"
      },
      "execution_count": 12,
      "outputs": [
        {
          "output_type": "stream",
          "name": "stdout",
          "text": [
            "1번째 줄 입니다.\n",
            "\n",
            "2번째 줄 입니다.\n",
            "\n",
            "3번째 줄 입니다.\n",
            "\n",
            "4번째 줄 입니다.\n",
            "\n",
            "5번째 줄 입니다.\n",
            "\n",
            "6번째 줄 입니다.\n",
            "\n",
            "7번째 줄 입니다.\n",
            "\n",
            "8번째 줄 입니다.\n",
            "\n",
            "9번째 줄 입니다.\n",
            "\n",
            "10번째 줄 입니다.\n",
            "\n"
          ]
        }
      ]
    },
    {
      "cell_type": "code",
      "source": [
        "# 파일에 새로운 내용 추가하기\n",
        "f = open(\"새파일.txt\", 'a')\n",
        "for i in range(11,20):\n",
        "  data = \"%d번째 줄 입니다.\\n\" % i\n",
        "  f.write(data)\n",
        "f.close()"
      ],
      "metadata": {
        "id": "ET_jwO05Rdb0"
      },
      "execution_count": 17,
      "outputs": []
    },
    {
      "cell_type": "code",
      "source": [
        "# with 문과 함께 사용하기\n",
        "# 사용전\n",
        "f = open(\"foo.txt\", 'w')\n",
        "f.write(\"Life is too short, you need python\")\n",
        "f.close()"
      ],
      "metadata": {
        "id": "VB32Ph4-QAxS"
      },
      "execution_count": 19,
      "outputs": []
    },
    {
      "cell_type": "code",
      "source": [
        "# with 문과 함께 사용하기\n",
        "# 사용\n",
        "with open(\"foo.txt\", \"w\") as f:\n",
        "  f.write(\"Life is too short, you need python\")\n",
        "\n",
        "# with문을 사용하면 with문에 속해있는 문장을 벗어나는 순간 파일이 자동으로 닫긴다.\n"
      ],
      "metadata": {
        "id": "Xm_r5Ih6Syy7"
      },
      "execution_count": 20,
      "outputs": []
    },
    {
      "cell_type": "code",
      "source": [
        "# [with 문과 스코프(scope) 규칙]"
      ],
      "metadata": {
        "id": "ERlgxta2TYLM"
      },
      "execution_count": null,
      "outputs": []
    },
    {
      "cell_type": "code",
      "source": [
        "# 함수 스코프\n",
        "def my_function():\n",
        "  func_var = \"함수 안의 변수\"\n",
        "\n",
        "my_function()\n",
        "# print(func_var) # 오류! 함수 밖에서는 접근 불가"
      ],
      "metadata": {
        "id": "kfLSlxL4Teai"
      },
      "execution_count": null,
      "outputs": []
    },
    {
      "cell_type": "code",
      "source": [
        "# 블록 스코프 : if, for, while, with 등의 블록 안에서 선언된 변수는 블록 밖에서도 잡근가능\n",
        "# if 문 블록의 예\n",
        "if True:\n",
        "  if_var = \"if 블록 안의 변수\"\n",
        "\n",
        "print(if_var) # 정상 작동! \"if 블록 안에 변수\" 출력\n",
        "\n",
        "# for 문 블록의 예\n",
        "for i in range(3):\n",
        "  loop_var =\"반복문 안의 변수\"\n",
        "\n",
        "print(i)        # 정상작동! 2출력\n",
        "print(loop_var) # 정상작동! \"반복문 안에 변수\" 출력\n"
      ],
      "metadata": {
        "id": "NgobJCd5T0_M"
      },
      "execution_count": null,
      "outputs": []
    },
    {
      "cell_type": "code",
      "source": [
        "# with 문에서 변수 사용 예제\n",
        "with open(\"test.txt\", \"w\") as f:\n",
        "  content = \"Hello, Python!\" # with 블록 내에서 변수 선언\n",
        "  f.write(content)\n",
        "\n",
        "# with 블록을 벗어난 후에도 변수에 접근 가능\n",
        "print(content) # \"Hello, Python!\" 출력"
      ],
      "metadata": {
        "colab": {
          "base_uri": "https://localhost:8080/"
        },
        "id": "dVBMBCOfUruM",
        "outputId": "908244d4-471e-4b8b-95c7-11d7ed0b837b"
      },
      "execution_count": 21,
      "outputs": [
        {
          "output_type": "stream",
          "name": "stdout",
          "text": [
            "Hello, Python!\n"
          ]
        }
      ]
    },
    {
      "cell_type": "code",
      "source": [
        "# 파일 처리 시 주의사항\n",
        "# 한글 파일 쓰기\n",
        "with open(\"한글파일.txt\", \"w\", encoding=\"utf-8\") as f:\n",
        "  f.write(\"안녕하세요, 파이썬!\")\n",
        "\n",
        "# 한글 파일 읽기\n",
        "with open(\"한글파일.txt\", \"r\", encoding=\"utf-8\") as f:\n",
        "  content = f.read()\n",
        "  print(content)"
      ],
      "metadata": {
        "colab": {
          "base_uri": "https://localhost:8080/"
        },
        "id": "kpk6MDL_VRhc",
        "outputId": "a8d39024-3916-41c3-f77c-1c065f8cf2d4"
      },
      "execution_count": 22,
      "outputs": [
        {
          "output_type": "stream",
          "name": "stdout",
          "text": [
            "안녕하세요, 파이썬!\n"
          ]
        }
      ]
    }
  ]
}