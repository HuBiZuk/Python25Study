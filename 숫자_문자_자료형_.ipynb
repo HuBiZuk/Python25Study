{
  "nbformat": 4,
  "nbformat_minor": 0,
  "metadata": {
    "colab": {
      "provenance": [],
      "authorship_tag": "ABX9TyPOxWztDUt9d2Fdj9NQq6dx",
      "include_colab_link": true
    },
    "kernelspec": {
      "name": "python3",
      "display_name": "Python 3"
    },
    "language_info": {
      "name": "python"
    }
  },
  "cells": [
    {
      "cell_type": "markdown",
      "metadata": {
        "id": "view-in-github",
        "colab_type": "text"
      },
      "source": [
        "<a href=\"https://colab.research.google.com/github/HuBiZuk/Python25Study/blob/main/%EC%88%AB%EC%9E%90_%EB%AC%B8%EC%9E%90_%EC%9E%90%EB%A3%8C%ED%98%95_.ipynb\" target=\"_parent\"><img src=\"https://colab.research.google.com/assets/colab-badge.svg\" alt=\"Open In Colab\"/></a>"
      ]
    },
    {
      "cell_type": "code",
      "source": [
        "# [숫자형]\n",
        "# number 타입: 정수, 실수, 8진수, 16진수, 2진수 등을 표현한다.\n",
        "\n",
        "a = 123\n",
        "print(a)"
      ],
      "metadata": {
        "id": "M7RLygEO1BAX"
      },
      "execution_count": null,
      "outputs": []
    },
    {
      "cell_type": "code",
      "execution_count": null,
      "metadata": {
        "id": "NvcNr4U9yssB"
      },
      "outputs": [],
      "source": [
        "# 정수형\n",
        "a = 123\n",
        "a = -178\n",
        "a= 0"
      ]
    },
    {
      "cell_type": "code",
      "source": [
        "# 실수형\n",
        "a = 1.2\n",
        "a = - 3.45\n",
        "a = 4.24E10\n",
        "a = 4.24e-10\n"
      ],
      "metadata": {
        "id": "hRbIcwof4l8_"
      },
      "execution_count": null,
      "outputs": []
    },
    {
      "cell_type": "code",
      "source": [
        "# [8진수와 16진수]\n",
        "# 8진수\n",
        "a = 0o177\n",
        "print(a)\n"
      ],
      "metadata": {
        "id": "ic6OsYfW42Me"
      },
      "execution_count": null,
      "outputs": []
    },
    {
      "cell_type": "code",
      "source": [
        "# 16진수\n",
        "a = 0x8ff\n",
        "b = 0xABC\n",
        "print(b)"
      ],
      "metadata": {
        "id": "8M_Ml5EE5Fw_"
      },
      "execution_count": null,
      "outputs": []
    },
    {
      "cell_type": "code",
      "source": [
        "# [숫자형을 활용하기 위한 연산자]\n",
        "# 사칙연산\n",
        "a = 3\n",
        "b = 4\n",
        "print(a+b)\n",
        "print(a-b)\n",
        "print(a*b)\n",
        "print(a/b)\n"
      ],
      "metadata": {
        "id": "DgemHapH5Qjn"
      },
      "execution_count": null,
      "outputs": []
    },
    {
      "cell_type": "code",
      "source": [
        "# x의 y제곱을 나타내는 **연산자\n",
        "a = 3\n",
        "b = 4\n",
        "a**b"
      ],
      "metadata": {
        "id": "tS6xlUWz5yW-"
      },
      "execution_count": null,
      "outputs": []
    },
    {
      "cell_type": "code",
      "source": [
        "# 나눗셈 후 나머지를 반환하는 % 연산자\n",
        "7 % 3\n",
        "3 % 7"
      ],
      "metadata": {
        "id": "ykshbUav6Kff"
      },
      "execution_count": null,
      "outputs": []
    },
    {
      "cell_type": "code",
      "source": [
        "# 나눗셈 후 몫을 반환하는 // 연산자\n",
        "7 / 4"
      ],
      "metadata": {
        "id": "wbKLhCEU7MX3"
      },
      "execution_count": null,
      "outputs": []
    },
    {
      "cell_type": "code",
      "source": [
        "7 // 4"
      ],
      "metadata": {
        "id": "8_KN3xdb7dAe"
      },
      "execution_count": null,
      "outputs": []
    },
    {
      "cell_type": "code",
      "source": [
        "# 복합연산자\n",
        "a = 1\n",
        "a = a + 1 # a + 1\n",
        "print(a)\n",
        "a += 1"
      ],
      "metadata": {
        "id": "n5vVWCSh8yzX"
      },
      "execution_count": null,
      "outputs": []
    },
    {
      "cell_type": "code",
      "source": [
        "a = 1\n",
        "a -= 1\n",
        "print(a)"
      ],
      "metadata": {
        "id": "lxsqllWk-QWn"
      },
      "execution_count": null,
      "outputs": []
    },
    {
      "cell_type": "code",
      "source": [
        "# [문자열 자료형]\n",
        "# 문자열에 작은따옴표 포함하기\n",
        "food = \"Python's favorite food is perl\"\n",
        "food"
      ],
      "metadata": {
        "id": "FbtuL1e9-yAv"
      },
      "execution_count": null,
      "outputs": []
    },
    {
      "cell_type": "code",
      "source": [
        "# 오류 작은따옴표로 감싸기\n",
        "food = 'Python's favorite food is perl'\n",
        "food"
      ],
      "metadata": {
        "id": "SHPoNl4h_XWv"
      },
      "execution_count": null,
      "outputs": []
    },
    {
      "cell_type": "code",
      "source": [
        "# 문자열에 큰 따옴표 포함하기\n",
        "say = '\"Python is very easy.\" he says.'\n",
        "say"
      ],
      "metadata": {
        "id": "c12UwVtz_rVH"
      },
      "execution_count": null,
      "outputs": []
    },
    {
      "cell_type": "code",
      "source": [
        "# \\\" 역슬래시를 사용하여 작은따옴표와 큰따옴표를 문자열에 포함하기\"\n",
        "food = 'python\\'s favorite food is perl'\n",
        "say = \"\\\"Python is very easy.\\\" he says.\"\n",
        "print(food)\n",
        "print(say)"
      ],
      "metadata": {
        "id": "CZGYnA32_xAW"
      },
      "execution_count": null,
      "outputs": []
    },
    {
      "cell_type": "code",
      "source": [
        "# 여러줄인 문자열을 변수에 대입하고 싶을때\n",
        "# 1. 줄을 바꾸기 위한 이스케이프 코그 \\n 삽입하기\n",
        "multiline = \"Life is too short\\nYou need python\"\n",
        "print(multiline)"
      ],
      "metadata": {
        "id": "oH2MBEzLAZYf"
      },
      "execution_count": null,
      "outputs": []
    },
    {
      "cell_type": "code",
      "source": [
        "# 2. 연속된 작은 따옴표 3개 또는 큰따옴표 3개 사용하기\n",
        "multiline = '''Life is too\n",
        "short You need\n",
        "python'''\n",
        "print(multiline)"
      ],
      "metadata": {
        "id": "ThUs398dAsGH"
      },
      "execution_count": null,
      "outputs": []
    },
    {
      "cell_type": "code",
      "source": [
        "multiline = \"\"\"\n",
        "Life is too short\n",
        "You need python\n",
        "\"\"\"\n",
        "print(multiline)"
      ],
      "metadata": {
        "id": "icO5tQ2MA_63"
      },
      "execution_count": null,
      "outputs": []
    },
    {
      "cell_type": "code",
      "source": [
        "# 이스케이프 코드\n",
        "\\n # 문자열 안에서 줄으 ㄹ바꿀때 사용\n",
        "\\c # 문자열 사이에 탭 간격을 줄때 사용\n",
        "\\\\ # \\를 그대로 표현할때 사용\n",
        "\\' # 작은 따옴표를 그대로 사용할때 사용\n",
        "\\\" # 큰 따옴표를 그대로 사용할때 사용\n",
        "\\r # 캐리지 리턴(줄바꿈 문자, 커서를 현재줄의 가장 앞으로 이동)\n",
        "\\f # 폼 피드(줄바꿈 문자, 커서를 현재줄의 다음줄로 이동)\n",
        "\\a # 벨 소리(출력할 때 pc 스피커에서 '삑' 소리가 난다)\n",
        "\\b # 백스페이스\n",
        "\\000 # 널 문자\n"
      ],
      "metadata": {
        "id": "p0e7bKUMBVFA"
      },
      "execution_count": null,
      "outputs": []
    },
    {
      "cell_type": "code",
      "source": [
        "# 문자열 연산하기\n",
        "# 문자열 더해서 연결하기\n",
        "head = \"Python\"\n",
        "tail =  is fun\"\n",
        "head + tail"
      ],
      "metadata": {
        "id": "pfdEuSBaCdkH"
      },
      "execution_count": null,
      "outputs": []
    },
    {
      "cell_type": "code",
      "source": [
        "# 문자열 곱하기\n",
        "a = \"python\"\n",
        "a * 2"
      ],
      "metadata": {
        "id": "9uuXJ5V9C8w9"
      },
      "execution_count": null,
      "outputs": []
    },
    {
      "cell_type": "code",
      "source": [
        "# 문자열 곱하기를 응용하기\n",
        "# multystring.py\n",
        "\n",
        "print(\"=\" * 50)\n",
        "print(\"my program\")\n",
        "print(\"=\" * 50)"
      ],
      "metadata": {
        "id": "WgK2D4cTC72X"
      },
      "execution_count": null,
      "outputs": []
    },
    {
      "cell_type": "code",
      "source": [
        "# 문자열 길이 구하기\n",
        "a= \"Life id too short\"\n",
        "len(a)"
      ],
      "metadata": {
        "id": "w0bOvgqYDf5N"
      },
      "execution_count": null,
      "outputs": []
    },
    {
      "cell_type": "code",
      "source": [
        "# 문자열 인덱싱\n",
        "a = \"Life id too short, You need Python\"\n",
        "a[3]"
      ],
      "metadata": {
        "id": "HwFah2yxDe8Y"
      },
      "execution_count": null,
      "outputs": []
    },
    {
      "cell_type": "code",
      "source": [
        "# 문자열 인덱싱 활용하기\n",
        "a = \"Life is too short, You need Python\"\n",
        "print(a[0])\n",
        "print(a[12])\n",
        "print(a[-1])"
      ],
      "metadata": {
        "id": "rq_ksrJlEIwn"
      },
      "execution_count": null,
      "outputs": []
    },
    {
      "cell_type": "code",
      "source": [
        "# 문자열 슬라이싱\n",
        "a = \"Life is too short, You need Python\"\n",
        "b = a[0] + a[1] + a[2] + a[3]\n",
        "print(b)\n",
        "print(a[0:4])\n",
        "print(a[0:3])   # 끝 번호에 해당하는 문자는 포함하지 않음\n",
        "print(a[0:5])\n",
        "print(a[0:2])\n",
        "print(a[5:7])\n",
        "print(a[12:17])\n",
        "print(a[19:])\n",
        "print(a[:17])\n",
        "print(a[:])\n",
        "print(a[19:-7])\n",
        "\n"
      ],
      "metadata": {
        "id": "QbK4RayMEdif"
      },
      "execution_count": null,
      "outputs": []
    },
    {
      "cell_type": "code",
      "source": [
        "# 슬라이싱으로 문자열 나누기\n",
        "a = \"20230331Rainy\"\n",
        "date = a[:8]\n",
        "weather = a[8:]\n",
        "print(date)\n",
        "print(weather)\n"
      ],
      "metadata": {
        "id": "X51GsINgF7bf"
      },
      "execution_count": null,
      "outputs": []
    },
    {
      "cell_type": "code",
      "source": [
        "a = \"20230331Rainy\"\n",
        "year = a[:4]\n",
        "day = a[4:8]\n",
        "weather = a[8:]\n",
        "print(year)\n",
        "print(day)\n",
        "print(weather)"
      ],
      "metadata": {
        "id": "sqb3JwEaGcL-"
      },
      "execution_count": null,
      "outputs": []
    },
    {
      "cell_type": "code",
      "source": [
        "# Pithon 문자열을 Python 으로 바꾸려면?\n",
        "a = \"Pithon\"\n",
        "a[:1]\n",
        "a[2:]\n",
        "a[:1] + 'y' + a[2:]"
      ],
      "metadata": {
        "id": "hC2LheVCG1Pw"
      },
      "execution_count": null,
      "outputs": []
    },
    {
      "cell_type": "code",
      "source": [
        "# 문자열 포메팅\n",
        "# 숫자 바로 대입\n",
        "\"I eat %d apples.\" %3"
      ],
      "metadata": {
        "id": "jSd0hmzyHotv"
      },
      "execution_count": null,
      "outputs": []
    },
    {
      "cell_type": "code",
      "source": [
        "# 문자열 바로 대입\n",
        "\"I eat %s apples.\" %\"five\""
      ],
      "metadata": {
        "id": "nIPZfyNPH2ZO"
      },
      "execution_count": null,
      "outputs": []
    },
    {
      "cell_type": "code",
      "source": [
        "# 숫자 값을 나타내는 변수로 대입\n",
        "number = 3\n",
        "\"I eat %d apples.\" % number\n",
        "\n"
      ],
      "metadata": {
        "id": "rVN_t9J2H7dn"
      },
      "execution_count": null,
      "outputs": []
    },
    {
      "cell_type": "code",
      "source": [
        "# 2개 이상의 값 넣기\n",
        "number = 10\n",
        "day = \"three\"\n",
        "\"I ate %d apples. so I was sick for %s days.\" % (number, day)\n"
      ],
      "metadata": {
        "id": "FgdGzQd2IMmf"
      },
      "execution_count": null,
      "outputs": []
    },
    {
      "cell_type": "code",
      "source": [
        "# 문자열 포맷 코드\n",
        "%s 문자열(String)\n",
        "%c 문자 1개(character)\n",
        "%d 정수(Integer)\n",
        "%f 부동소수(floating-point)\n",
        "%o 8진수\n",
        "%x 16진수\n",
        "%% Literal % (문자 % 자체)"
      ],
      "metadata": {
        "id": "TO3HG2XoNhPo"
      },
      "execution_count": null,
      "outputs": []
    },
    {
      "cell_type": "code",
      "source": [
        "# ex\n",
        "\"I have %s apples\" %3"
      ],
      "metadata": {
        "colab": {
          "base_uri": "https://localhost:8080/",
          "height": 35
        },
        "id": "r8F3vEaAOXBo",
        "outputId": "295d6c54-8526-4da5-ffb6-cfac5bd35bb9"
      },
      "execution_count": 67,
      "outputs": [
        {
          "output_type": "execute_result",
          "data": {
            "text/plain": [
              "'I have 3 apples'"
            ],
            "application/vnd.google.colaboratory.intrinsic+json": {
              "type": "string"
            }
          },
          "metadata": {},
          "execution_count": 67
        }
      ]
    },
    {
      "cell_type": "code",
      "source": [
        "\"rate is %s\" % 3.234"
      ],
      "metadata": {
        "colab": {
          "base_uri": "https://localhost:8080/",
          "height": 35
        },
        "id": "bAoa5CZVOnI3",
        "outputId": "4d23c1ac-a702-4a3f-c48d-5f3dacc36b71"
      },
      "execution_count": 68,
      "outputs": [
        {
          "output_type": "execute_result",
          "data": {
            "text/plain": [
              "'rate is 3.234'"
            ],
            "application/vnd.google.colaboratory.intrinsic+json": {
              "type": "string"
            }
          },
          "metadata": {},
          "execution_count": 68
        }
      ]
    },
    {
      "cell_type": "code",
      "source": [
        "# 포매팅 연산자 %d 와 %를 같이 쓸때는 %%를 쓴다\n",
        "\"Error is %d%.\" %98"
      ],
      "metadata": {
        "colab": {
          "base_uri": "https://localhost:8080/",
          "height": 166
        },
        "id": "4uLxte6lOvXw",
        "outputId": "a16754f2-7a97-4d3f-97a3-4cd0213540d0"
      },
      "execution_count": 69,
      "outputs": [
        {
          "output_type": "error",
          "ename": "ValueError",
          "evalue": "incomplete format",
          "traceback": [
            "\u001b[0;31m---------------------------------------------------------------------------\u001b[0m",
            "\u001b[0;31mValueError\u001b[0m                                Traceback (most recent call last)",
            "\u001b[0;32m/tmp/ipython-input-2968673397.py\u001b[0m in \u001b[0;36m<cell line: 0>\u001b[0;34m()\u001b[0m\n\u001b[1;32m      1\u001b[0m \u001b[0;31m# 포매팅 연산자 %d 와 %를 같이 쓸때는 %%를 쓴다\u001b[0m\u001b[0;34m\u001b[0m\u001b[0;34m\u001b[0m\u001b[0m\n\u001b[0;32m----> 2\u001b[0;31m \u001b[0;34m\"Error is %d%.\"\u001b[0m \u001b[0;34m%\u001b[0m\u001b[0;36m98\u001b[0m\u001b[0;34m\u001b[0m\u001b[0;34m\u001b[0m\u001b[0m\n\u001b[0m",
            "\u001b[0;31mValueError\u001b[0m: incomplete format"
          ]
        }
      ]
    },
    {
      "cell_type": "code",
      "source": [
        "\"Error is %d%%.\" %98"
      ],
      "metadata": {
        "colab": {
          "base_uri": "https://localhost:8080/",
          "height": 35
        },
        "id": "4SVO7EIvPCvX",
        "outputId": "754b5c3f-830f-4a1b-b829-ef4462f0ba01"
      },
      "execution_count": 70,
      "outputs": [
        {
          "output_type": "execute_result",
          "data": {
            "text/plain": [
              "'Error is 98%.'"
            ],
            "application/vnd.google.colaboratory.intrinsic+json": {
              "type": "string"
            }
          },
          "metadata": {},
          "execution_count": 70
        }
      ]
    },
    {
      "cell_type": "code",
      "source": [
        "# 포맷 코드와 숫자 함께 상용하기\n",
        "# 정렬과 공백\n",
        "\"%10s\" % \"hi\""
      ],
      "metadata": {
        "colab": {
          "base_uri": "https://localhost:8080/",
          "height": 35
        },
        "id": "XLD9zEIrPIjQ",
        "outputId": "a3d793de-218b-4d5b-d0a1-b7322a8f9e32"
      },
      "execution_count": 71,
      "outputs": [
        {
          "output_type": "execute_result",
          "data": {
            "text/plain": [
              "'        hi'"
            ],
            "application/vnd.google.colaboratory.intrinsic+json": {
              "type": "string"
            }
          },
          "metadata": {},
          "execution_count": 71
        }
      ]
    },
    {
      "cell_type": "code",
      "source": [
        "\"%-10sjane.\" % 'hi'"
      ],
      "metadata": {
        "colab": {
          "base_uri": "https://localhost:8080/",
          "height": 35
        },
        "id": "zNIiYFORPWo4",
        "outputId": "31a9a39d-6d0c-4089-86f6-aaecb1fe27c2"
      },
      "execution_count": 72,
      "outputs": [
        {
          "output_type": "execute_result",
          "data": {
            "text/plain": [
              "'hi        jane.'"
            ],
            "application/vnd.google.colaboratory.intrinsic+json": {
              "type": "string"
            }
          },
          "metadata": {},
          "execution_count": 72
        }
      ]
    },
    {
      "cell_type": "code",
      "source": [
        "# 소수점 표현하기\n",
        "\"%0.4f\" % 3.42134234"
      ],
      "metadata": {
        "colab": {
          "base_uri": "https://localhost:8080/",
          "height": 35
        },
        "id": "53pcAaFCPvmI",
        "outputId": "ad373b42-f245-4265-ca2e-8c699533b067"
      },
      "execution_count": 73,
      "outputs": [
        {
          "output_type": "execute_result",
          "data": {
            "text/plain": [
              "'3.4213'"
            ],
            "application/vnd.google.colaboratory.intrinsic+json": {
              "type": "string"
            }
          },
          "metadata": {},
          "execution_count": 73
        }
      ]
    },
    {
      "cell_type": "code",
      "source": [
        "\"%10.4f\" % 3.42134234"
      ],
      "metadata": {
        "colab": {
          "base_uri": "https://localhost:8080/",
          "height": 35
        },
        "id": "T1wrviXnP6mI",
        "outputId": "c922de84-0911-49ce-8620-d660e6d8edb0"
      },
      "execution_count": 74,
      "outputs": [
        {
          "output_type": "execute_result",
          "data": {
            "text/plain": [
              "'    3.4213'"
            ],
            "application/vnd.google.colaboratory.intrinsic+json": {
              "type": "string"
            }
          },
          "metadata": {},
          "execution_count": 74
        }
      ]
    },
    {
      "cell_type": "code",
      "source": [
        "# format 함수를 사용한 포메팅\n",
        "# 숫자 바로 대입하기\n",
        "\"i eat {0} apples\".format(3)"
      ],
      "metadata": {
        "colab": {
          "base_uri": "https://localhost:8080/",
          "height": 35
        },
        "id": "dQcn1R7oQN3I",
        "outputId": "0e4a0017-db5b-4db1-db40-3f321f5bb253"
      },
      "execution_count": 75,
      "outputs": [
        {
          "output_type": "execute_result",
          "data": {
            "text/plain": [
              "'i eat 3 apples'"
            ],
            "application/vnd.google.colaboratory.intrinsic+json": {
              "type": "string"
            }
          },
          "metadata": {},
          "execution_count": 75
        }
      ]
    },
    {
      "cell_type": "code",
      "source": [
        "# 문자열 바로 대입하기\n",
        "\"i eat {0} apples\".format(\"five\")"
      ],
      "metadata": {
        "colab": {
          "base_uri": "https://localhost:8080/",
          "height": 35
        },
        "id": "QJ_EVf_zQbqf",
        "outputId": "5eeabd42-7bd5-4b82-bd71-5b1e165c369b"
      },
      "execution_count": 76,
      "outputs": [
        {
          "output_type": "execute_result",
          "data": {
            "text/plain": [
              "'i eat five apples'"
            ],
            "application/vnd.google.colaboratory.intrinsic+json": {
              "type": "string"
            }
          },
          "metadata": {},
          "execution_count": 76
        }
      ]
    },
    {
      "cell_type": "code",
      "source": [
        "# 숫자를 가진 변수로 대입하기\n",
        "number = 3\n",
        "\"I eat {0} apples\".format(number)"
      ],
      "metadata": {
        "colab": {
          "base_uri": "https://localhost:8080/",
          "height": 35
        },
        "id": "DlSN71knQsRo",
        "outputId": "e6f96d77-e2e1-499c-c214-5b17952e861c"
      },
      "execution_count": 77,
      "outputs": [
        {
          "output_type": "execute_result",
          "data": {
            "text/plain": [
              "'I eat 3 apples'"
            ],
            "application/vnd.google.colaboratory.intrinsic+json": {
              "type": "string"
            }
          },
          "metadata": {},
          "execution_count": 77
        }
      ]
    },
    {
      "cell_type": "code",
      "source": [
        "# 2개 이상의 값 넣기\n",
        "number = 10\n",
        "day =  \"three\"\n",
        "\"I ate {0} apples. so I was sick for {1} days.\".format(number, day)"
      ],
      "metadata": {
        "colab": {
          "base_uri": "https://localhost:8080/",
          "height": 35
        },
        "id": "7QygYJRjQ4SA",
        "outputId": "b0986d22-8c8c-4e83-895c-ddfb62245b3f"
      },
      "execution_count": 79,
      "outputs": [
        {
          "output_type": "execute_result",
          "data": {
            "text/plain": [
              "'I ate 10 apples. so I was sick for three days.'"
            ],
            "application/vnd.google.colaboratory.intrinsic+json": {
              "type": "string"
            }
          },
          "metadata": {},
          "execution_count": 79
        }
      ]
    },
    {
      "cell_type": "code",
      "source": [
        "# 이름으로 넣기\n",
        "\"I ate {number} apples. so I was sick for {day} days.\".format(number=10, day=3)"
      ],
      "metadata": {
        "colab": {
          "base_uri": "https://localhost:8080/",
          "height": 35
        },
        "id": "u81hdS2uRWP5",
        "outputId": "eb4896b1-2292-441c-e077-09dc8688fa12"
      },
      "execution_count": 80,
      "outputs": [
        {
          "output_type": "execute_result",
          "data": {
            "text/plain": [
              "'I ate 10 apples. so I was sick for 3 days.'"
            ],
            "application/vnd.google.colaboratory.intrinsic+json": {
              "type": "string"
            }
          },
          "metadata": {},
          "execution_count": 80
        }
      ]
    },
    {
      "cell_type": "code",
      "source": [
        "# 인덱스와 이름을 혼용해서 넣기\n",
        "\"I ate {0} apples. so  I was sick for {day} days.\".format(10, day=3)"
      ],
      "metadata": {
        "colab": {
          "base_uri": "https://localhost:8080/",
          "height": 35
        },
        "id": "NCaUuvpYRk4x",
        "outputId": "40ac8dbd-397b-444b-c22b-feb84be78982"
      },
      "execution_count": 81,
      "outputs": [
        {
          "output_type": "execute_result",
          "data": {
            "text/plain": [
              "'I ate 10 apples. so  I was sick for 3 days.'"
            ],
            "application/vnd.google.colaboratory.intrinsic+json": {
              "type": "string"
            }
          },
          "metadata": {},
          "execution_count": 81
        }
      ]
    },
    {
      "cell_type": "code",
      "source": [
        "# 왼쪽 정렬\n",
        "\"{0:<10}\".format(\"hi\")"
      ],
      "metadata": {
        "colab": {
          "base_uri": "https://localhost:8080/",
          "height": 35
        },
        "id": "Qx6flm__R7ZQ",
        "outputId": "acfc4243-735a-4f7d-e0ef-7cfc2806e15a"
      },
      "execution_count": 82,
      "outputs": [
        {
          "output_type": "execute_result",
          "data": {
            "text/plain": [
              "'hi        '"
            ],
            "application/vnd.google.colaboratory.intrinsic+json": {
              "type": "string"
            }
          },
          "metadata": {},
          "execution_count": 82
        }
      ]
    },
    {
      "cell_type": "code",
      "source": [
        "# 오른쪽 정렬\n",
        "\"{0:>10}\".format(\"hi\")"
      ],
      "metadata": {
        "colab": {
          "base_uri": "https://localhost:8080/",
          "height": 35
        },
        "id": "WthO8sNnSCu_",
        "outputId": "33ae22c9-7b20-4d71-c8ac-30cb273988bb"
      },
      "execution_count": 83,
      "outputs": [
        {
          "output_type": "execute_result",
          "data": {
            "text/plain": [
              "'        hi'"
            ],
            "application/vnd.google.colaboratory.intrinsic+json": {
              "type": "string"
            }
          },
          "metadata": {},
          "execution_count": 83
        }
      ]
    },
    {
      "cell_type": "code",
      "source": [
        "# 가운데 정렬\n",
        "\"{0:^10}\".format(\"hi\")"
      ],
      "metadata": {
        "colab": {
          "base_uri": "https://localhost:8080/",
          "height": 35
        },
        "id": "tJQX3Hc-SONY",
        "outputId": "efef6cbc-04ca-45b2-b8ca-107a0032d7fc"
      },
      "execution_count": 84,
      "outputs": [
        {
          "output_type": "execute_result",
          "data": {
            "text/plain": [
              "'    hi    '"
            ],
            "application/vnd.google.colaboratory.intrinsic+json": {
              "type": "string"
            }
          },
          "metadata": {},
          "execution_count": 84
        }
      ]
    },
    {
      "cell_type": "code",
      "source": [
        "# 공백 채우기\n",
        "print(\"{0:=^10}\".format(\"hi\"))\n",
        "print(\"{0:!<10}\".format(\"hi\"))"
      ],
      "metadata": {
        "colab": {
          "base_uri": "https://localhost:8080/"
        },
        "id": "rrqq65e6SWZ_",
        "outputId": "75aa74aa-e24e-4a37-97bf-87c8e5c0b806"
      },
      "execution_count": 88,
      "outputs": [
        {
          "output_type": "stream",
          "name": "stdout",
          "text": [
            "====hi====\n",
            "hi!!!!!!!!\n"
          ]
        }
      ]
    },
    {
      "cell_type": "code",
      "source": [
        "# 소수점 표현하기\n",
        "y = 3.42134234\n",
        "print(\"{0:0.4f}\".format(y))\n",
        "print(\"{0:10.4f}\".format(y))"
      ],
      "metadata": {
        "colab": {
          "base_uri": "https://localhost:8080/"
        },
        "id": "2jha8P6HSxCx",
        "outputId": "afcdc7fa-aa4d-4f8f-b345-6fec20936371"
      },
      "execution_count": 90,
      "outputs": [
        {
          "output_type": "stream",
          "name": "stdout",
          "text": [
            "3.4213\n",
            "    3.4213\n"
          ]
        }
      ]
    },
    {
      "cell_type": "code",
      "source": [
        "# {또는} 문자 표현하기\n",
        "\"{{and}}\".format()"
      ],
      "metadata": {
        "colab": {
          "base_uri": "https://localhost:8080/",
          "height": 35
        },
        "id": "AV_6j-JeTJ-n",
        "outputId": "6dda2cfa-335e-42eb-99f0-483bcf10ff4e"
      },
      "execution_count": 91,
      "outputs": [
        {
          "output_type": "execute_result",
          "data": {
            "text/plain": [
              "'{and}'"
            ],
            "application/vnd.google.colaboratory.intrinsic+json": {
              "type": "string"
            }
          },
          "metadata": {},
          "execution_count": 91
        }
      ]
    },
    {
      "cell_type": "code",
      "source": [
        "# f 문자열 포매팅\n",
        "name = '홍길동'\n",
        "age = 30\n",
        "f'나의 이름은 {name} 입니다. 나이는 {age}입니다.'\n"
      ],
      "metadata": {
        "colab": {
          "base_uri": "https://localhost:8080/",
          "height": 35
        },
        "id": "6woUss5pTXvR",
        "outputId": "71c651ae-079f-4d90-8cdc-4f02a4a885f9"
      },
      "execution_count": 92,
      "outputs": [
        {
          "output_type": "execute_result",
          "data": {
            "text/plain": [
              "'나의 이름은 홍길동 입니다. 나이는 30입니다.'"
            ],
            "application/vnd.google.colaboratory.intrinsic+json": {
              "type": "string"
            }
          },
          "metadata": {},
          "execution_count": 92
        }
      ]
    },
    {
      "cell_type": "code",
      "source": [
        "age = 30\n",
        "f'나는 내년이면 {age +1} 살이 된다.'"
      ],
      "metadata": {
        "colab": {
          "base_uri": "https://localhost:8080/",
          "height": 35
        },
        "id": "b0nDR8rNTrN4",
        "outputId": "59fca83d-13c0-4a68-ce73-fea7ce6a3e9b"
      },
      "execution_count": 93,
      "outputs": [
        {
          "output_type": "execute_result",
          "data": {
            "text/plain": [
              "'나는 내년이면 31 살이 된다.'"
            ],
            "application/vnd.google.colaboratory.intrinsic+json": {
              "type": "string"
            }
          },
          "metadata": {},
          "execution_count": 93
        }
      ]
    },
    {
      "cell_type": "code",
      "source": [
        "d = {'name': '홍길동', 'age': 30}\n",
        "f'나의 이름은 {d[\"name\"]}입니다. 나이는 {d[\"age\"]}입니다'"
      ],
      "metadata": {
        "colab": {
          "base_uri": "https://localhost:8080/",
          "height": 35
        },
        "id": "E-dnsTVCTWub",
        "outputId": "f85b4be0-c159-4f0f-911c-063f5779f230"
      },
      "execution_count": 94,
      "outputs": [
        {
          "output_type": "execute_result",
          "data": {
            "text/plain": [
              "'나의 이름은 홍길동입니다. 나이는 30입니다'"
            ],
            "application/vnd.google.colaboratory.intrinsic+json": {
              "type": "string"
            }
          },
          "metadata": {},
          "execution_count": 94
        }
      ]
    },
    {
      "cell_type": "code",
      "source": [
        "# 정렬\n",
        "f'{\"hi\":<10}'"
      ],
      "metadata": {
        "colab": {
          "base_uri": "https://localhost:8080/",
          "height": 35
        },
        "id": "mFZil8zzUMVY",
        "outputId": "102b95a4-dc06-4150-f2c7-bec1b8627f95"
      },
      "execution_count": 95,
      "outputs": [
        {
          "output_type": "execute_result",
          "data": {
            "text/plain": [
              "'hi        '"
            ],
            "application/vnd.google.colaboratory.intrinsic+json": {
              "type": "string"
            }
          },
          "metadata": {},
          "execution_count": 95
        }
      ]
    },
    {
      "cell_type": "code",
      "source": [
        "F'{\"HI\":>10}'"
      ],
      "metadata": {
        "colab": {
          "base_uri": "https://localhost:8080/",
          "height": 35
        },
        "id": "3iHxwrsTUVE3",
        "outputId": "47f16946-23b1-428d-e5a1-0d62dd905dfb"
      },
      "execution_count": 97,
      "outputs": [
        {
          "output_type": "execute_result",
          "data": {
            "text/plain": [
              "'        HI'"
            ],
            "application/vnd.google.colaboratory.intrinsic+json": {
              "type": "string"
            }
          },
          "metadata": {},
          "execution_count": 97
        }
      ]
    },
    {
      "cell_type": "code",
      "source": [
        "F'{\"HI\":^10}'"
      ],
      "metadata": {
        "colab": {
          "base_uri": "https://localhost:8080/",
          "height": 35
        },
        "id": "oNxQpCUsUcuP",
        "outputId": "c5628afa-ab05-4f7c-b866-0f31fe086e22"
      },
      "execution_count": 98,
      "outputs": [
        {
          "output_type": "execute_result",
          "data": {
            "text/plain": [
              "'    HI    '"
            ],
            "application/vnd.google.colaboratory.intrinsic+json": {
              "type": "string"
            }
          },
          "metadata": {},
          "execution_count": 98
        }
      ]
    },
    {
      "cell_type": "code",
      "source": [
        "# 공백 채우기\n",
        "F'{\"HI\":=^10}'  # 가운데 정렬하고 '=' 문자로 공백 채우기"
      ],
      "metadata": {
        "colab": {
          "base_uri": "https://localhost:8080/",
          "height": 35
        },
        "id": "wy9T5gNbUhTv",
        "outputId": "a9c6752a-4d7b-4b98-a3d3-099b198eaaf0"
      },
      "execution_count": 99,
      "outputs": [
        {
          "output_type": "execute_result",
          "data": {
            "text/plain": [
              "'====HI===='"
            ],
            "application/vnd.google.colaboratory.intrinsic+json": {
              "type": "string"
            }
          },
          "metadata": {},
          "execution_count": 99
        }
      ]
    },
    {
      "cell_type": "code",
      "source": [
        "f'{\"hi\":!<10}'   # 왼쪽 정렬하고 ! 문자로 공백 채우기"
      ],
      "metadata": {
        "colab": {
          "base_uri": "https://localhost:8080/",
          "height": 35
        },
        "id": "8jPrsY_zUx_A",
        "outputId": "322883da-30c1-4c91-a07c-eec6e1a52f76"
      },
      "execution_count": 104,
      "outputs": [
        {
          "output_type": "execute_result",
          "data": {
            "text/plain": [
              "'hi!!!!!!!!'"
            ],
            "application/vnd.google.colaboratory.intrinsic+json": {
              "type": "string"
            }
          },
          "metadata": {},
          "execution_count": 104
        }
      ]
    },
    {
      "cell_type": "code",
      "source": [
        "# 소수점\n",
        "y = 3.42134234\n",
        "f'{y:0.4f}'"
      ],
      "metadata": {
        "colab": {
          "base_uri": "https://localhost:8080/",
          "height": 35
        },
        "id": "YxY4nkB1VM1Q",
        "outputId": "4b6f44df-6539-4060-f3c3-62833a3b2908"
      },
      "execution_count": 105,
      "outputs": [
        {
          "output_type": "execute_result",
          "data": {
            "text/plain": [
              "'3.4213'"
            ],
            "application/vnd.google.colaboratory.intrinsic+json": {
              "type": "string"
            }
          },
          "metadata": {},
          "execution_count": 105
        }
      ]
    },
    {
      "cell_type": "code",
      "source": [
        "\n",
        "y = 3.42134234\n",
        "f'{y:10.4f}'"
      ],
      "metadata": {
        "colab": {
          "base_uri": "https://localhost:8080/",
          "height": 35
        },
        "id": "_AF1vbgCVQ9H",
        "outputId": "998cde1e-f3ba-4428-8648-50f912c78d63"
      },
      "execution_count": 108,
      "outputs": [
        {
          "output_type": "execute_result",
          "data": {
            "text/plain": [
              "'    3.4213'"
            ],
            "application/vnd.google.colaboratory.intrinsic+json": {
              "type": "string"
            }
          },
          "metadata": {},
          "execution_count": 108
        }
      ]
    },
    {
      "cell_type": "code",
      "source": [
        "# f문자열ㄹ에서 {} 그대로 표시하기\n",
        "f'{{ and }}'"
      ],
      "metadata": {
        "colab": {
          "base_uri": "https://localhost:8080/",
          "height": 35
        },
        "id": "Gy4poEWRVc1v",
        "outputId": "fb89a229-adda-423e-eacc-52e31559ba7f"
      },
      "execution_count": 109,
      "outputs": [
        {
          "output_type": "execute_result",
          "data": {
            "text/plain": [
              "'{ and }'"
            ],
            "application/vnd.google.colaboratory.intrinsic+json": {
              "type": "string"
            }
          },
          "metadata": {},
          "execution_count": 109
        }
      ]
    },
    {
      "cell_type": "code",
      "source": [
        "# f문자열을 사용하여 금액에 콤마(,) 사용하기\n",
        "f\"난 {1500000:,}원이 필요해\""
      ],
      "metadata": {
        "colab": {
          "base_uri": "https://localhost:8080/",
          "height": 35
        },
        "id": "40dWLrnYVnU4",
        "outputId": "7233d1f2-f754-40ca-8bf2-2b196ce2499d"
      },
      "execution_count": 110,
      "outputs": [
        {
          "output_type": "execute_result",
          "data": {
            "text/plain": [
              "'난 1,500,000원이 필요해'"
            ],
            "application/vnd.google.colaboratory.intrinsic+json": {
              "type": "string"
            }
          },
          "metadata": {},
          "execution_count": 110
        }
      ]
    },
    {
      "cell_type": "code",
      "source": [
        "# [문자 관련 함수들]\n",
        "# 문자 개수 세기 - count\n",
        "a= \"hobby\"\n",
        "a.count('b')"
      ],
      "metadata": {
        "colab": {
          "base_uri": "https://localhost:8080/"
        },
        "id": "QBRwCQe-V2oP",
        "outputId": "2a9f357d-5ae4-444a-f5f6-8adf7c9c1d06"
      },
      "execution_count": 112,
      "outputs": [
        {
          "output_type": "execute_result",
          "data": {
            "text/plain": [
              "2"
            ]
          },
          "metadata": {},
          "execution_count": 112
        }
      ]
    },
    {
      "cell_type": "code",
      "source": [
        "# 위치 알려주기 1 - find\n",
        "a = \"Python is the best choice\"\n",
        "a.find('b')"
      ],
      "metadata": {
        "colab": {
          "base_uri": "https://localhost:8080/"
        },
        "id": "CKdNhf9reCB3",
        "outputId": "175790eb-4b4b-4d93-c3d2-6a20d5d8fee3"
      },
      "execution_count": 113,
      "outputs": [
        {
          "output_type": "execute_result",
          "data": {
            "text/plain": [
              "14"
            ]
          },
          "metadata": {},
          "execution_count": 113
        }
      ]
    },
    {
      "cell_type": "code",
      "source": [
        "a = \"Python is the best choice\"\n",
        "a.find('k')\n",
        "# 존대하지 않으면 -1 반환"
      ],
      "metadata": {
        "colab": {
          "base_uri": "https://localhost:8080/"
        },
        "id": "pc11CAZQeNBf",
        "outputId": "7c65baa6-7802-4711-e531-1d171d50e54b"
      },
      "execution_count": 114,
      "outputs": [
        {
          "output_type": "execute_result",
          "data": {
            "text/plain": [
              "-1"
            ]
          },
          "metadata": {},
          "execution_count": 114
        }
      ]
    },
    {
      "cell_type": "code",
      "source": [
        "# 위치 알려주기 2 - index\n",
        "a = \"Life is too short\"\n",
        "a.index('t')"
      ],
      "metadata": {
        "colab": {
          "base_uri": "https://localhost:8080/"
        },
        "id": "84LgU4HkedLP",
        "outputId": "4c1a64ef-3507-41fa-a3de-671ae30dc5e7"
      },
      "execution_count": 115,
      "outputs": [
        {
          "output_type": "execute_result",
          "data": {
            "text/plain": [
              "8"
            ]
          },
          "metadata": {},
          "execution_count": 115
        }
      ]
    },
    {
      "cell_type": "code",
      "source": [
        "a = \"Life is too short\"\n",
        "a.index('k')"
      ],
      "metadata": {
        "colab": {
          "base_uri": "https://localhost:8080/",
          "height": 166
        },
        "id": "UyCpnSQremZf",
        "outputId": "54ad6f73-b8c2-4012-8e22-7076ae0f4c5e"
      },
      "execution_count": 116,
      "outputs": [
        {
          "output_type": "error",
          "ename": "ValueError",
          "evalue": "substring not found",
          "traceback": [
            "\u001b[0;31m---------------------------------------------------------------------------\u001b[0m",
            "\u001b[0;31mValueError\u001b[0m                                Traceback (most recent call last)",
            "\u001b[0;32m/tmp/ipython-input-2981625153.py\u001b[0m in \u001b[0;36m<cell line: 0>\u001b[0;34m()\u001b[0m\n\u001b[1;32m      1\u001b[0m \u001b[0ma\u001b[0m \u001b[0;34m=\u001b[0m \u001b[0;34m\"Life is too short\"\u001b[0m\u001b[0;34m\u001b[0m\u001b[0;34m\u001b[0m\u001b[0m\n\u001b[0;32m----> 2\u001b[0;31m \u001b[0ma\u001b[0m\u001b[0;34m.\u001b[0m\u001b[0mindex\u001b[0m\u001b[0;34m(\u001b[0m\u001b[0;34m'k'\u001b[0m\u001b[0;34m)\u001b[0m\u001b[0;34m\u001b[0m\u001b[0;34m\u001b[0m\u001b[0m\n\u001b[0m",
            "\u001b[0;31mValueError\u001b[0m: substring not found"
          ]
        }
      ]
    },
    {
      "cell_type": "code",
      "source": [
        "# 문자열 삽입 - join\n",
        "\",\".join('abcd')"
      ],
      "metadata": {
        "colab": {
          "base_uri": "https://localhost:8080/",
          "height": 35
        },
        "id": "8jRftijse1Qg",
        "outputId": "4d1fbbe8-e9e4-4ed1-ee6b-ff2297dbea99"
      },
      "execution_count": 117,
      "outputs": [
        {
          "output_type": "execute_result",
          "data": {
            "text/plain": [
              "'a,b,c,d'"
            ],
            "application/vnd.google.colaboratory.intrinsic+json": {
              "type": "string"
            }
          },
          "metadata": {},
          "execution_count": 117
        }
      ]
    },
    {
      "cell_type": "code",
      "source": [
        "# 소문자를 대문자로 바꾸기 - upper\n",
        "a = \"hi\"\n",
        "a.upper()"
      ],
      "metadata": {
        "colab": {
          "base_uri": "https://localhost:8080/",
          "height": 35
        },
        "id": "oIU47_0ifHma",
        "outputId": "efad9960-1942-4bf6-a78e-eca73c48adc9"
      },
      "execution_count": 119,
      "outputs": [
        {
          "output_type": "execute_result",
          "data": {
            "text/plain": [
              "'HI'"
            ],
            "application/vnd.google.colaboratory.intrinsic+json": {
              "type": "string"
            }
          },
          "metadata": {},
          "execution_count": 119
        }
      ]
    },
    {
      "cell_type": "code",
      "source": [
        "#"
      ],
      "metadata": {
        "id": "Zl1UVGpPfUsf"
      },
      "execution_count": null,
      "outputs": []
    },
    {
      "cell_type": "markdown",
      "source": [],
      "metadata": {
        "id": "8PGc434D5lxP"
      }
    },
    {
      "cell_type": "markdown",
      "source": [],
      "metadata": {
        "id": "1sx2i9s_nHQm"
      }
    }
  ]
}